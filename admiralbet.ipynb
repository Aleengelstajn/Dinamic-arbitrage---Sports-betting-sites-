{
 "cells": [
  {
   "cell_type": "code",
   "execution_count": 2,
   "metadata": {},
   "outputs": [
    {
     "name": "stderr",
     "output_type": "stream",
     "text": [
      "c:\\Python310\\lib\\site-packages\\fuzzywuzzy\\fuzz.py:11: UserWarning: Using slow pure-python SequenceMatcher. Install python-Levenshtein to remove this warning\n",
      "  warnings.warn('Using slow pure-python SequenceMatcher. Install python-Levenshtein to remove this warning')\n"
     ]
    }
   ],
   "source": [
    "''' LIBRARIES '''\n",
    "from selenium import webdriver\n",
    "from selenium.webdriver.chrome.options import Options\n",
    "from selenium.webdriver.support.ui import Select\n",
    "from selenium.webdriver.common.by import By\n",
    "from selenium.webdriver.support.ui import WebDriverWait\n",
    "from selenium.webdriver.support import expected_conditions as EC\n",
    "\n",
    "import re\n",
    "import time\n",
    "from IPython.display import clear_output\n",
    "\n",
    "from fuzzywuzzy import process, fuzz\n",
    "from sympy import symbols, Eq, solve\n",
    "import pandas as pd\n",
    "import numpy as np"
   ]
  },
  {
   "cell_type": "code",
   "execution_count": 18,
   "metadata": {},
   "outputs": [
    {
     "name": "stderr",
     "output_type": "stream",
     "text": [
      "C:\\Users\\KNL\\AppData\\Local\\Temp\\ipykernel_8072\\1834363254.py:7: DeprecationWarning: executable_path has been deprecated, please pass in a Service object\n",
      "  adm = webdriver.Chrome(r'C:\\Users\\KNL\\Desktop\\Ale\\Upwork\\Scraping_bets\\chromedriver.exe', options=options)\n"
     ]
    }
   ],
   "source": [
    "'''Navigator Options               StarBETa LIVE'''\n",
    "url_adm = 'https://admiralbet.rs/sport-live'\n",
    "options = Options()\n",
    "options.headless = False #for not opening the navigator\n",
    "\n",
    "\n",
    "adm = webdriver.Chrome(r'C:\\Users\\KNL\\Desktop\\Ale\\Upwork\\Scraping_bets\\chromedriver.exe', options=options)\n",
    "adm.get(url_adm)\n",
    "adm.set_window_size(1920, 1080)\n",
    "adm.switch_to.frame(adm.find_element(By.XPATH, '//*[@id=\"sportLiveIframe\"]'))\n",
    "fudbal = WebDriverWait(adm, 5).until(EC.element_to_be_clickable((By.XPATH, '/html/body/app-root/app-betting-live/div[2]/section[2]/div/app-sport-groups-container/app-sport-group[1]/section/div')))\n",
    "fudbal.click()"
   ]
  },
  {
   "cell_type": "code",
   "execution_count": 19,
   "metadata": {},
   "outputs": [],
   "source": []
  },
  {
   "cell_type": "markdown",
   "metadata": {},
   "source": []
  },
  {
   "cell_type": "code",
   "execution_count": 20,
   "metadata": {},
   "outputs": [
    {
     "name": "stdout",
     "output_type": "stream",
     "text": [
      "0 26' 1p\n",
      "1 691\n",
      "2 Israel\n",
      "3 Albania\n",
      "4 0\n",
      "5 0\n",
      "6 0\n",
      "7 0\n",
      "8 2.45\n",
      "9 3.00\n",
      "10 3.50\n",
      "11 0:0\n",
      "12 2.45\n",
      "13 3.00\n",
      "14 3.50\n",
      "15 1\n",
      "16 2.00\n",
      "17 5.80\n",
      "18 2.50\n",
      "19 2.20\n",
      "20 1.5\n",
      "21 1.70\n",
      "22 +\n",
      "23 313\n"
     ]
    }
   ],
   "source": [
    "a = adm.find_element(By.XPATH, '/html/body/app-root/app-betting-live/div[2]/section[2]/div/app-sport-groups-container/app-sport-group[1]/section/app-competition-group[1]/section/div[2]/app-event-live[1]').text.split('\\n')\n",
    "for idx, c in enumerate(a):\n",
    "    print(idx, c)"
   ]
  },
  {
   "cell_type": "code",
   "execution_count": 5,
   "metadata": {},
   "outputs": [],
   "source": [
    "adm.switch_to.frame(adm.find_element(By.XPATH, '//*[@id=\"sportIframe\"]'))"
   ]
  },
  {
   "cell_type": "code",
   "execution_count": 24,
   "metadata": {},
   "outputs": [
    {
     "name": "stdout",
     "output_type": "stream",
     "text": [
      "Israel Albania 1\n",
      "Czech Republic Portugal 2\n",
      "Serbia Sweden 3\n",
      "Spain Switzerland 4\n",
      "Cyprus Greece 5\n",
      "Scotland Republic of Ireland 6\n",
      "Australia U20 Chile U20 1\n",
      "Romania U19 Lithuania U19 1\n",
      "Mauritania U23 Togo U23 1\n",
      "Hercules Espanyol B 1\n",
      "Catanzaro ACR Messina 1\n",
      "Gelbison Vallo Taranto 2\n",
      "Foggia Pescara 3\n",
      "Calcio Giugliano Turris 4\n",
      "Monopoli Audace Cerignola 5\n",
      "Juve Stabia AS Viterbese Castrense 6\n",
      "Potenza Calcio Crotone 7\n",
      "Latina Avellino 8\n",
      "Dender KSC Dikkelvenne 1\n",
      "Lommel SK Raal La Louviere 1\n",
      "Lierse KRC Mechelen 2\n",
      "Servette Geneve W Grasshopper Zurich 1\n"
     ]
    }
   ],
   "source": [
    "for k in range(10):\n",
    "    for j in range(30):\n",
    "        try:\n",
    "            elemento = adm.find_element(By.XPATH, f'/html/body/app-root/app-betting-live/div[2]/section[2]/div/app-sport-groups-container/app-sport-group[1]/section/app-competition-group[{k}]/section/div[2]/app-event-live[{j}]').text.split('\\n')\n",
    "\n",
    "            teams = elemento[2]+' '+ elemento[3]\n",
    "\n",
    "            adm_1 = elemento[5]\n",
    "            adm_X = elemento[6]\n",
    "            adm_2 = elemento[7]\n",
    "            \n",
    "            goals_adm = elemento[9]\n",
    "            under = elemento[8]\n",
    "            over = elemento[9]\n",
    "            print(teams, j)\n",
    "        except:\n",
    "            pass"
   ]
  },
  {
   "cell_type": "code",
   "execution_count": 10,
   "metadata": {},
   "outputs": [
    {
     "name": "stdout",
     "output_type": "stream",
     "text": [
      "0 subota, 24.09.2022. 16:00\n",
      "1 1798\n",
      "2 Arg\n",
      "3 San Martin T.\n",
      "4 Almirante Brown\n",
      "5 1.32\n",
      "6 4.25\n",
      "7 13.00\n",
      "8 1.54\n",
      "9 2.5\n",
      "10 2.35\n",
      "11 3.35\n",
      "12 1.28\n",
      "13 +\n",
      "14 24\n"
     ]
    }
   ],
   "source": [
    "/html/body/app-root/app-betting-live/div[2]/section[2]/div/app-sport-groups-container/app-sport-group[1]/section/app-competition-group[6]/section/div[2]/app-event-live[2]"
   ]
  }
 ],
 "metadata": {
  "kernelspec": {
   "display_name": "Python 3.10.6 64-bit",
   "language": "python",
   "name": "python3"
  },
  "language_info": {
   "codemirror_mode": {
    "name": "ipython",
    "version": 3
   },
   "file_extension": ".py",
   "mimetype": "text/x-python",
   "name": "python",
   "nbconvert_exporter": "python",
   "pygments_lexer": "ipython3",
   "version": "3.10.6"
  },
  "orig_nbformat": 4,
  "vscode": {
   "interpreter": {
    "hash": "369f2c481f4da34e4445cda3fffd2e751bd1c4d706f27375911949ba6bb62e1c"
   }
  }
 },
 "nbformat": 4,
 "nbformat_minor": 2
}
