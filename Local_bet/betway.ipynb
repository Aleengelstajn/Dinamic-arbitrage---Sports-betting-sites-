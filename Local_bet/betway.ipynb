{
 "cells": [
  {
   "cell_type": "code",
   "execution_count": 1,
   "metadata": {},
   "outputs": [
    {
     "name": "stderr",
     "output_type": "stream",
     "text": [
      "C:\\Users\\Willy\\AppData\\Local\\Packages\\PythonSoftwareFoundation.Python.3.9_qbz5n2kfra8p0\\LocalCache\\local-packages\\Python39\\site-packages\\fuzzywuzzy\\fuzz.py:11: UserWarning: Using slow pure-python SequenceMatcher. Install python-Levenshtein to remove this warning\n",
      "  warnings.warn('Using slow pure-python SequenceMatcher. Install python-Levenshtein to remove this warning')\n"
     ]
    }
   ],
   "source": [
    "''' LIBRARIES '''\n",
    "from selenium import webdriver\n",
    "from selenium.webdriver.chrome.options import Options\n",
    "from selenium.webdriver.support.ui import Select\n",
    "from selenium.webdriver.common.by import By\n",
    "from selenium.webdriver.support.ui import WebDriverWait\n",
    "from selenium.webdriver.support import expected_conditions as EC\n",
    "\n",
    "import time\n",
    "from IPython.display import clear_output\n",
    "\n",
    "from fuzzywuzzy import process, fuzz\n",
    "from sympy import symbols, Eq, solve\n",
    "import pandas as pd\n",
    "import numpy as np"
   ]
  },
  {
   "cell_type": "markdown",
   "metadata": {},
   "source": [
    "# BETWAY - Futbol"
   ]
  },
  {
   "cell_type": "code",
   "execution_count": 3,
   "metadata": {},
   "outputs": [
    {
     "name": "stderr",
     "output_type": "stream",
     "text": [
      "C:\\Users\\Willy\\AppData\\Local\\Temp\\ipykernel_201008\\2614013665.py:8: DeprecationWarning: executable_path has been deprecated, please pass in a Service object\n",
      "  bway = webdriver.Chrome(r'C:\\Users\\Willy\\Desktop\\Ale\\UpWork\\LIVE-ODDS-Scrape-and-calculate-different-strategies\\chromedriver.exe', options=options)\n"
     ]
    }
   ],
   "source": [
    "''' NAVIGATOR '''\n",
    "bet_way = 'https://betway.bet.ar/es-ar/sports/lve/soccer'\n",
    "\n",
    "#changing chromedriver default options\n",
    "options = Options()\n",
    "options.headless = False #for not opening the navigator\n",
    "options.add_argument('window-size=1920x1080') #Headless = True\n",
    "bway = webdriver.Chrome(r'C:\\Users\\Willy\\Desktop\\Ale\\UpWork\\LIVE-ODDS-Scrape-and-calculate-different-strategies\\chromedriver.exe', options=options)\n",
    "#bway = webdriver.Chrome(r'C:\\Users\\KNL\\Desktop\\Ale\\Upwork\\Scraping_bets\\chromedriver.exe', options=options)\n",
    "bway.get(bet_way)\n",
    "bway.set_window_size(1920, 1080)"
   ]
  },
  {
   "cell_type": "code",
   "execution_count": 5,
   "metadata": {},
   "outputs": [
    {
     "ename": "NoSuchElementException",
     "evalue": "Message: no such element: Unable to locate element: {\"method\":\"xpath\",\"selector\":\"/html/body/div[1]/div/div[3]/div/div[1]/div/div[2]/div[4]/div/div[2]/div/div[1]/div/div[2]/div/div[2]/div[1]/div[2]\"}\n  (Session info: chrome=105.0.5195.127)\nStacktrace:\nBacktrace:\n\tOrdinal0 [0x0114DF13+2219795]\n\tOrdinal0 [0x010E2841+1779777]\n\tOrdinal0 [0x00FF423D+803389]\n\tOrdinal0 [0x01023025+995365]\n\tOrdinal0 [0x010231EB+995819]\n\tOrdinal0 [0x01050F52+1183570]\n\tOrdinal0 [0x0103E844+1108036]\n\tOrdinal0 [0x0104F192+1175954]\n\tOrdinal0 [0x0103E616+1107478]\n\tOrdinal0 [0x01017F89+950153]\n\tOrdinal0 [0x01018F56+954198]\n\tGetHandleVerifier [0x01442CB2+3040210]\n\tGetHandleVerifier [0x01432BB4+2974420]\n\tGetHandleVerifier [0x011E6A0A+565546]\n\tGetHandleVerifier [0x011E5680+560544]\n\tOrdinal0 [0x010E9A5C+1808988]\n\tOrdinal0 [0x010EE3A8+1827752]\n\tOrdinal0 [0x010EE495+1827989]\n\tOrdinal0 [0x010F80A4+1867940]\n\tBaseThreadInitThunk [0x7757FA29+25]\n\tRtlGetAppContainerNamedObjectPath [0x77D27B5E+286]\n\tRtlGetAppContainerNamedObjectPath [0x77D27B2E+238]\n",
     "output_type": "error",
     "traceback": [
      "\u001b[1;31m---------------------------------------------------------------------------\u001b[0m",
      "\u001b[1;31mNoSuchElementException\u001b[0m                    Traceback (most recent call last)",
      "\u001b[1;32mc:\\Users\\Willy\\Desktop\\Ale\\UpWork\\LIVE-ODDS-Scrape-and-calculate-different-strategies\\Local_bet\\betway.ipynb Celda 4\u001b[0m in \u001b[0;36m<module>\u001b[1;34m\u001b[0m\n\u001b[0;32m      <a href='vscode-notebook-cell:/c%3A/Users/Willy/Desktop/Ale/UpWork/LIVE-ODDS-Scrape-and-calculate-different-strategies/Local_bet/betway.ipynb#W3sZmlsZQ%3D%3D?line=0'>1</a>\u001b[0m dropdown \u001b[39m=\u001b[39m WebDriverWait(bway, \u001b[39m4\u001b[39m)\u001b[39m.\u001b[39muntil(EC\u001b[39m.\u001b[39melement_to_be_clickable((By\u001b[39m.\u001b[39mXPATH, \u001b[39m'\u001b[39m\u001b[39m/html/body/div[1]/div/div[3]/div/div[1]/div/div[2]/div[4]/div/div[2]/div/div[1]/div/div[2]/div/div[1]\u001b[39m\u001b[39m'\u001b[39m)))\n\u001b[0;32m      <a href='vscode-notebook-cell:/c%3A/Users/Willy/Desktop/Ale/UpWork/LIVE-ODDS-Scrape-and-calculate-different-strategies/Local_bet/betway.ipynb#W3sZmlsZQ%3D%3D?line=1'>2</a>\u001b[0m dropdown\u001b[39m.\u001b[39mclick()\n\u001b[1;32m----> <a href='vscode-notebook-cell:/c%3A/Users/Willy/Desktop/Ale/UpWork/LIVE-ODDS-Scrape-and-calculate-different-strategies/Local_bet/betway.ipynb#W3sZmlsZQ%3D%3D?line=3'>4</a>\u001b[0m total_goals \u001b[39m=\u001b[39m bway\u001b[39m.\u001b[39;49mfind_element(By\u001b[39m.\u001b[39;49mXPATH, \u001b[39m'\u001b[39;49m\u001b[39m/html/body/div[1]/div/div[3]/div/div[1]/div/div[2]/div[4]/div/div[2]/div/div[1]/div/div[2]/div/div[2]/div[1]/div[2]\u001b[39;49m\u001b[39m'\u001b[39;49m)\n\u001b[0;32m      <a href='vscode-notebook-cell:/c%3A/Users/Willy/Desktop/Ale/UpWork/LIVE-ODDS-Scrape-and-calculate-different-strategies/Local_bet/betway.ipynb#W3sZmlsZQ%3D%3D?line=4'>5</a>\u001b[0m total_goals\u001b[39m.\u001b[39mclick()\n",
      "File \u001b[1;32m~\\AppData\\Local\\Packages\\PythonSoftwareFoundation.Python.3.9_qbz5n2kfra8p0\\LocalCache\\local-packages\\Python39\\site-packages\\selenium\\webdriver\\remote\\webdriver.py:855\u001b[0m, in \u001b[0;36mWebDriver.find_element\u001b[1;34m(self, by, value)\u001b[0m\n\u001b[0;32m    852\u001b[0m     by \u001b[39m=\u001b[39m By\u001b[39m.\u001b[39mCSS_SELECTOR\n\u001b[0;32m    853\u001b[0m     value \u001b[39m=\u001b[39m \u001b[39m'\u001b[39m\u001b[39m[name=\u001b[39m\u001b[39m\"\u001b[39m\u001b[39m%s\u001b[39;00m\u001b[39m\"\u001b[39m\u001b[39m]\u001b[39m\u001b[39m'\u001b[39m \u001b[39m%\u001b[39m value\n\u001b[1;32m--> 855\u001b[0m \u001b[39mreturn\u001b[39;00m \u001b[39mself\u001b[39;49m\u001b[39m.\u001b[39;49mexecute(Command\u001b[39m.\u001b[39;49mFIND_ELEMENT, {\n\u001b[0;32m    856\u001b[0m     \u001b[39m'\u001b[39;49m\u001b[39musing\u001b[39;49m\u001b[39m'\u001b[39;49m: by,\n\u001b[0;32m    857\u001b[0m     \u001b[39m'\u001b[39;49m\u001b[39mvalue\u001b[39;49m\u001b[39m'\u001b[39;49m: value})[\u001b[39m'\u001b[39m\u001b[39mvalue\u001b[39m\u001b[39m'\u001b[39m]\n",
      "File \u001b[1;32m~\\AppData\\Local\\Packages\\PythonSoftwareFoundation.Python.3.9_qbz5n2kfra8p0\\LocalCache\\local-packages\\Python39\\site-packages\\selenium\\webdriver\\remote\\webdriver.py:428\u001b[0m, in \u001b[0;36mWebDriver.execute\u001b[1;34m(self, driver_command, params)\u001b[0m\n\u001b[0;32m    426\u001b[0m response \u001b[39m=\u001b[39m \u001b[39mself\u001b[39m\u001b[39m.\u001b[39mcommand_executor\u001b[39m.\u001b[39mexecute(driver_command, params)\n\u001b[0;32m    427\u001b[0m \u001b[39mif\u001b[39;00m response:\n\u001b[1;32m--> 428\u001b[0m     \u001b[39mself\u001b[39;49m\u001b[39m.\u001b[39;49merror_handler\u001b[39m.\u001b[39;49mcheck_response(response)\n\u001b[0;32m    429\u001b[0m     response[\u001b[39m'\u001b[39m\u001b[39mvalue\u001b[39m\u001b[39m'\u001b[39m] \u001b[39m=\u001b[39m \u001b[39mself\u001b[39m\u001b[39m.\u001b[39m_unwrap_value(\n\u001b[0;32m    430\u001b[0m         response\u001b[39m.\u001b[39mget(\u001b[39m'\u001b[39m\u001b[39mvalue\u001b[39m\u001b[39m'\u001b[39m, \u001b[39mNone\u001b[39;00m))\n\u001b[0;32m    431\u001b[0m     \u001b[39mreturn\u001b[39;00m response\n",
      "File \u001b[1;32m~\\AppData\\Local\\Packages\\PythonSoftwareFoundation.Python.3.9_qbz5n2kfra8p0\\LocalCache\\local-packages\\Python39\\site-packages\\selenium\\webdriver\\remote\\errorhandler.py:243\u001b[0m, in \u001b[0;36mErrorHandler.check_response\u001b[1;34m(self, response)\u001b[0m\n\u001b[0;32m    241\u001b[0m         alert_text \u001b[39m=\u001b[39m value[\u001b[39m'\u001b[39m\u001b[39malert\u001b[39m\u001b[39m'\u001b[39m]\u001b[39m.\u001b[39mget(\u001b[39m'\u001b[39m\u001b[39mtext\u001b[39m\u001b[39m'\u001b[39m)\n\u001b[0;32m    242\u001b[0m     \u001b[39mraise\u001b[39;00m exception_class(message, screen, stacktrace, alert_text)  \u001b[39m# type: ignore[call-arg]  # mypy is not smart enough here\u001b[39;00m\n\u001b[1;32m--> 243\u001b[0m \u001b[39mraise\u001b[39;00m exception_class(message, screen, stacktrace)\n",
      "\u001b[1;31mNoSuchElementException\u001b[0m: Message: no such element: Unable to locate element: {\"method\":\"xpath\",\"selector\":\"/html/body/div[1]/div/div[3]/div/div[1]/div/div[2]/div[4]/div/div[2]/div/div[1]/div/div[2]/div/div[2]/div[1]/div[2]\"}\n  (Session info: chrome=105.0.5195.127)\nStacktrace:\nBacktrace:\n\tOrdinal0 [0x0114DF13+2219795]\n\tOrdinal0 [0x010E2841+1779777]\n\tOrdinal0 [0x00FF423D+803389]\n\tOrdinal0 [0x01023025+995365]\n\tOrdinal0 [0x010231EB+995819]\n\tOrdinal0 [0x01050F52+1183570]\n\tOrdinal0 [0x0103E844+1108036]\n\tOrdinal0 [0x0104F192+1175954]\n\tOrdinal0 [0x0103E616+1107478]\n\tOrdinal0 [0x01017F89+950153]\n\tOrdinal0 [0x01018F56+954198]\n\tGetHandleVerifier [0x01442CB2+3040210]\n\tGetHandleVerifier [0x01432BB4+2974420]\n\tGetHandleVerifier [0x011E6A0A+565546]\n\tGetHandleVerifier [0x011E5680+560544]\n\tOrdinal0 [0x010E9A5C+1808988]\n\tOrdinal0 [0x010EE3A8+1827752]\n\tOrdinal0 [0x010EE495+1827989]\n\tOrdinal0 [0x010F80A4+1867940]\n\tBaseThreadInitThunk [0x7757FA29+25]\n\tRtlGetAppContainerNamedObjectPath [0x77D27B5E+286]\n\tRtlGetAppContainerNamedObjectPath [0x77D27B2E+238]\n"
     ]
    }
   ],
   "source": [
    "dropdown = WebDriverWait(bway, 4).until(EC.element_to_be_clickable((By.XPATH, '/html/body/div[1]/div/div[3]/div/div[1]/div/div[2]/div[4]/div/div[2]/div/div[1]/div/div[2]/div/div[1]')))\n",
    "dropdown.click()\n",
    "\n",
    "total_goals = bway.find_element(By.XPATH, '/html/body/div[1]/div/div[3]/div/div[1]/div/div[2]/div[4]/div/div[2]/div/div[1]/div/div[2]/div/div[2]/div[1]/div[2]')\n",
    "total_goals.click()\n"
   ]
  },
  {
   "cell_type": "code",
   "execution_count": 31,
   "metadata": {},
   "outputs": [],
   "source": [
    "a = bway.find_element(By.XPATH, path)\n",
    "a.click()\n",
    "#bway.execute_script(\"arguments[0].click()\", a)"
   ]
  },
  {
   "cell_type": "code",
   "execution_count": 41,
   "metadata": {},
   "outputs": [],
   "source": [
    "dropdown = WebDriverWait(bway, 4).until(EC.element_to_be_clickable((By.XPATH, '/html/body/div[1]/div/div[3]/div/div[1]/div/div[2]/div[4]/div/div[2]/div/div[1]/div/div[2]/div/div[1]')))\n",
    "dropdown.click()\n",
    "\n",
    "total_goals = bway.find_element(By.XPATH, '/html/body/div[1]/div/div[3]/div/div[1]/div/div[2]/div[4]/div/div[2]/div/div[1]/div/div[2]/div/div[2]/div[1]/div[2]')\n",
    "total_goals.click()\n"
   ]
  },
  {
   "cell_type": "code",
   "execution_count": 42,
   "metadata": {},
   "outputs": [
    {
     "name": "stdout",
     "output_type": "stream",
     "text": [
      "4\n",
      "5\n",
      "6\n",
      "7\n",
      "8\n",
      "9\n",
      "10\n",
      "11\n",
      "12\n",
      "15\n",
      "16\n",
      "17\n",
      "18\n",
      "21\n",
      "22\n",
      "23\n",
      "24\n",
      "27\n"
     ]
    }
   ],
   "source": [
    "\n",
    "for i in range(4, 40):\n",
    "    try:\n",
    "        path = f'/html/body/div[1]/div/div[3]/div/div[1]/div/div[2]/div[4]/div/div[2]/div/div[2]/div[1]/div/div[{i}]/div[1]/div[1]/div'\n",
    "        a = bway.find_element(By.XPATH, path)\n",
    "        a.click()\n",
    "        print(i)\n",
    "    except:\n",
    "        pass"
   ]
  },
  {
   "cell_type": "code",
   "execution_count": null,
   "metadata": {},
   "outputs": [],
   "source": [
    "/html/body/div[1]/div/div[3]/div/div[1]/div/div[2]/div[4]/div/div[2]/div/div[2]/div[1]/div/div[28]/div[2]/div/div[3]\n",
    "\n",
    "/html/body/div[1]/div/div[3]/div/div[1]/div/div[2]/div[4]/div/div[2]/div/div[2]/div[1]/div/div[2]/div[2]/div/div[6]"
   ]
  },
  {
   "cell_type": "code",
   "execution_count": 64,
   "metadata": {},
   "outputs": [
    {
     "name": "stdout",
     "output_type": "stream",
     "text": [
      "0 1\n",
      "1 -\n",
      "2 0\n",
      "3 Bayer Leverkusen Cat. Femenina -1 FC Cologne Women\n",
      "4 2ª mitad\n",
      "5 ,\n",
      "6 83'\n",
      "7 1,5\n",
      "8 2,62\n",
      "9 1,5\n",
      "10 1,42\n"
     ]
    }
   ],
   "source": [
    "a =bway.find_element(By.XPATH, '/html/body/div[1]/div/div[3]/div/div[1]/div/div[2]/div[4]/div/div[2]/div/div[2]/div[1]/div/div[1]/div[2]/div/div[1]').text.split('\\n')\n",
    "for idx, c in enumerate(a):\n",
    "    print(idx, c)"
   ]
  },
  {
   "cell_type": "code",
   "execution_count": 12,
   "metadata": {},
   "outputs": [],
   "source": [
    "def betway():\n",
    "    df_bway = pd.DataFrame(columns=['players_bway', 'goals_bway','over_bway', 'under_bway'])\n",
    "    for j in range(30):\n",
    "        for i in range(5):\n",
    "            try:\n",
    "                elemento = bway.find_element(By.XPATH, f'/html/body/div[1]/div/div[3]/div/div[1]/div/div[2]/div[4]/div/div[2]/div/div[2]/div[1]/div/div[{j}]/div[2]/div/div[{i}]').text.split('\\n')\n",
    "                players_bway = elemento[3]\n",
    "                goals_bway = elemento[7].replace(',', '.')\n",
    "                over_bway = elemento[8].replace(',', '.')\n",
    "                under_bway= elemento[10].replace(',', '.')\n",
    "                #print(players_bway, '|         |', goals_bway,'|',over_bway,'/', under_bway)\n",
    "                df_bway.loc[len(df_bway.index)] = [players_bway, goals_bway, over_bway, under_bway]\n",
    "\n",
    "            except:\n",
    "                pass\n",
    "    cols = ['goals_bway', 'over_bway', 'under_bway']\n",
    "\n",
    "    for col in cols:\n",
    "        df_bway[col] = df_bway[col].astype('float64')\n",
    "\n",
    "\n",
    "    return df_bway"
   ]
  },
  {
   "cell_type": "code",
   "execution_count": 13,
   "metadata": {},
   "outputs": [
    {
     "data": {
      "text/html": [
       "<div>\n",
       "<style scoped>\n",
       "    .dataframe tbody tr th:only-of-type {\n",
       "        vertical-align: middle;\n",
       "    }\n",
       "\n",
       "    .dataframe tbody tr th {\n",
       "        vertical-align: top;\n",
       "    }\n",
       "\n",
       "    .dataframe thead th {\n",
       "        text-align: right;\n",
       "    }\n",
       "</style>\n",
       "<table border=\"1\" class=\"dataframe\">\n",
       "  <thead>\n",
       "    <tr style=\"text-align: right;\">\n",
       "      <th></th>\n",
       "      <th>players_bway</th>\n",
       "      <th>goals_bway</th>\n",
       "      <th>over_bway</th>\n",
       "      <th>under_bway</th>\n",
       "    </tr>\n",
       "  </thead>\n",
       "  <tbody>\n",
       "    <tr>\n",
       "      <th>0</th>\n",
       "      <td>San Martin de Tucuman -Almirante Brown</td>\n",
       "      <td>1.5</td>\n",
       "      <td>1.85</td>\n",
       "      <td>1.85</td>\n",
       "    </tr>\n",
       "    <tr>\n",
       "      <th>1</th>\n",
       "      <td>Paysandu -Vitoria</td>\n",
       "      <td>1.5</td>\n",
       "      <td>2.10</td>\n",
       "      <td>1.65</td>\n",
       "    </tr>\n",
       "    <tr>\n",
       "      <th>2</th>\n",
       "      <td>Goiania GO -Inhumas GO</td>\n",
       "      <td>1.5</td>\n",
       "      <td>2.10</td>\n",
       "      <td>1.66</td>\n",
       "    </tr>\n",
       "    <tr>\n",
       "      <th>3</th>\n",
       "      <td>CD Trasandino de Los Andes -General Velazquez</td>\n",
       "      <td>0.5</td>\n",
       "      <td>2.20</td>\n",
       "      <td>1.61</td>\n",
       "    </tr>\n",
       "    <tr>\n",
       "      <th>4</th>\n",
       "      <td>Atlético Bucaramanga -Once Caldas</td>\n",
       "      <td>0.5</td>\n",
       "      <td>2.25</td>\n",
       "      <td>1.57</td>\n",
       "    </tr>\n",
       "    <tr>\n",
       "      <th>5</th>\n",
       "      <td>Valledupar Fc -Leones</td>\n",
       "      <td>3.5</td>\n",
       "      <td>1.80</td>\n",
       "      <td>1.90</td>\n",
       "    </tr>\n",
       "    <tr>\n",
       "      <th>6</th>\n",
       "      <td>Llaneros FC -Tigres FC</td>\n",
       "      <td>1.5</td>\n",
       "      <td>1.55</td>\n",
       "      <td>2.30</td>\n",
       "    </tr>\n",
       "    <tr>\n",
       "      <th>7</th>\n",
       "      <td>Chacaritas -America de Quito</td>\n",
       "      <td>2.5</td>\n",
       "      <td>2.00</td>\n",
       "      <td>1.72</td>\n",
       "    </tr>\n",
       "    <tr>\n",
       "      <th>8</th>\n",
       "      <td>CSD Puerto San Jose -Solola FC</td>\n",
       "      <td>1.5</td>\n",
       "      <td>2.50</td>\n",
       "      <td>1.50</td>\n",
       "    </tr>\n",
       "    <tr>\n",
       "      <th>9</th>\n",
       "      <td>Chipre -Grecia</td>\n",
       "      <td>1.5</td>\n",
       "      <td>4.33</td>\n",
       "      <td>1.18</td>\n",
       "    </tr>\n",
       "    <tr>\n",
       "      <th>10</th>\n",
       "      <td>Australia Sub 20 -Chile Sub 20</td>\n",
       "      <td>4.5</td>\n",
       "      <td>5.50</td>\n",
       "      <td>4.50</td>\n",
       "    </tr>\n",
       "    <tr>\n",
       "      <th>11</th>\n",
       "      <td>Pioneros de Cancun II -Campeche</td>\n",
       "      <td>2.5</td>\n",
       "      <td>2.30</td>\n",
       "      <td>1.55</td>\n",
       "    </tr>\n",
       "    <tr>\n",
       "      <th>12</th>\n",
       "      <td>Deportivo Coopsol -Deportivo Llacuabamba</td>\n",
       "      <td>2.5</td>\n",
       "      <td>1.61</td>\n",
       "      <td>2.20</td>\n",
       "    </tr>\n",
       "    <tr>\n",
       "      <th>13</th>\n",
       "      <td>Juan Aurich -Sport Chavelines</td>\n",
       "      <td>2.5</td>\n",
       "      <td>3.50</td>\n",
       "      <td>2.50</td>\n",
       "    </tr>\n",
       "    <tr>\n",
       "      <th>14</th>\n",
       "      <td>Danubio -River Plate Montevideo</td>\n",
       "      <td>2.5</td>\n",
       "      <td>3.50</td>\n",
       "      <td>2.50</td>\n",
       "    </tr>\n",
       "  </tbody>\n",
       "</table>\n",
       "</div>"
      ],
      "text/plain": [
       "                                     players_bway  goals_bway  over_bway  \\\n",
       "0          San Martin de Tucuman -Almirante Brown         1.5       1.85   \n",
       "1                               Paysandu -Vitoria         1.5       2.10   \n",
       "2                          Goiania GO -Inhumas GO         1.5       2.10   \n",
       "3   CD Trasandino de Los Andes -General Velazquez         0.5       2.20   \n",
       "4               Atlético Bucaramanga -Once Caldas         0.5       2.25   \n",
       "5                           Valledupar Fc -Leones         3.5       1.80   \n",
       "6                          Llaneros FC -Tigres FC         1.5       1.55   \n",
       "7                    Chacaritas -America de Quito         2.5       2.00   \n",
       "8                  CSD Puerto San Jose -Solola FC         1.5       2.50   \n",
       "9                                  Chipre -Grecia         1.5       4.33   \n",
       "10                 Australia Sub 20 -Chile Sub 20         4.5       5.50   \n",
       "11                Pioneros de Cancun II -Campeche         2.5       2.30   \n",
       "12       Deportivo Coopsol -Deportivo Llacuabamba         2.5       1.61   \n",
       "13                  Juan Aurich -Sport Chavelines         2.5       3.50   \n",
       "14                Danubio -River Plate Montevideo         2.5       3.50   \n",
       "\n",
       "    under_bway  \n",
       "0         1.85  \n",
       "1         1.65  \n",
       "2         1.66  \n",
       "3         1.61  \n",
       "4         1.57  \n",
       "5         1.90  \n",
       "6         2.30  \n",
       "7         1.72  \n",
       "8         1.50  \n",
       "9         1.18  \n",
       "10        4.50  \n",
       "11        1.55  \n",
       "12        2.20  \n",
       "13        2.50  \n",
       "14        2.50  "
      ]
     },
     "execution_count": 13,
     "metadata": {},
     "output_type": "execute_result"
    }
   ],
   "source": [
    "betway()"
   ]
  },
  {
   "cell_type": "code",
   "execution_count": null,
   "metadata": {},
   "outputs": [],
   "source": []
  }
 ],
 "metadata": {
  "kernelspec": {
   "display_name": "Python 3.9.13 64-bit (microsoft store)",
   "language": "python",
   "name": "python3"
  },
  "language_info": {
   "codemirror_mode": {
    "name": "ipython",
    "version": 3
   },
   "file_extension": ".py",
   "mimetype": "text/x-python",
   "name": "python",
   "nbconvert_exporter": "python",
   "pygments_lexer": "ipython3",
   "version": "3.9.13"
  },
  "orig_nbformat": 4,
  "vscode": {
   "interpreter": {
    "hash": "14940a60bfa17567659eead7fce841ac74dcd360a376091e8f37c7395626e438"
   }
  }
 },
 "nbformat": 4,
 "nbformat_minor": 2
}
