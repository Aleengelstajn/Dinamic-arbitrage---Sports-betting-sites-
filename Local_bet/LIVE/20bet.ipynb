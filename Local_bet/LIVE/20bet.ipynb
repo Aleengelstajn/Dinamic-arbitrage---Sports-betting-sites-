{
 "cells": [
  {
   "cell_type": "code",
   "execution_count": 1,
   "metadata": {},
   "outputs": [],
   "source": [
    "''' LIBRARIES '''\n",
    "from selenium import webdriver\n",
    "from selenium.webdriver.chrome.options import Options\n",
    "from selenium.webdriver.support.ui import Select\n",
    "from selenium.webdriver.common.by import By\n",
    "from selenium.webdriver.support.ui import WebDriverWait\n",
    "from selenium.webdriver.support import expected_conditions as EC\n",
    "from selenium.webdriver import ActionChains\n",
    "\n",
    "import re\n",
    "import time\n",
    "from IPython.display import clear_output\n",
    "import multiprocessing\n",
    "import threading\n",
    "from tqdm import tqdm\n",
    "import warnings\n",
    "warnings.filterwarnings(\"ignore\")\n",
    "\n",
    "from fuzzywuzzy import process, fuzz\n",
    "from sympy import symbols, Eq, solve\n",
    "import pandas as pd\n",
    "import numpy as np"
   ]
  },
  {
   "cell_type": "markdown",
   "metadata": {},
   "source": [
    "# 20BET"
   ]
  },
  {
   "cell_type": "code",
   "execution_count": 3,
   "metadata": {},
   "outputs": [],
   "source": [
    "''' NAVIGATOR       20BET LIVE '''\n",
    "url = 'https://20bet.com/es'\n",
    "options = Options()\n",
    "options.headless = False #for not opening the navigator\n",
    "\n",
    "veinte = webdriver.Chrome(r'C:\\Users\\KNL\\Desktop\\Ale\\Upwork\\Scraping_bets\\chromedriver.exe', options=options)\n",
    "veinte.get(url)\n",
    "veinte.maximize_window()\n",
    "\n",
    "notific = WebDriverWait(veinte, 10).until(EC.presence_of_element_located((By.CSS_SELECTOR, 'button.align-right.secondary.slidedown-button')))\n",
    "notific.click()\n",
    "\n",
    "cookie = WebDriverWait(veinte, 10).until(EC.presence_of_element_located((By.XPATH, '//*[@id=\"platform\"]/div[2]/div[3]/div/button')))\n",
    "cookie.click()\n",
    "\n",
    "\n"
   ]
  },
  {
   "cell_type": "code",
   "execution_count": 90,
   "metadata": {},
   "outputs": [
    {
     "name": "stdout",
     "output_type": "stream",
     "text": [
      "0 85:38\n",
      "1 2ª parte0:00:1\n",
      "2 LAFC\n",
      "3 0\n",
      "4 Nashville SC\n",
      "5 1\n",
      "6 139\n",
      "7 19\n",
      "8 3.75\n",
      "9 1.32\n",
      "10 3.15\n",
      "11 1.22\n",
      "12 3.15\n",
      "13 + 0.5 -\n",
      "14 1.3\n",
      "15 1.55\n",
      "16 1.5\n",
      "17 2.3\n"
     ]
    },
    {
     "data": {
      "text/plain": [
       "18"
      ]
     },
     "execution_count": 90,
     "metadata": {},
     "output_type": "execute_result"
    }
   ],
   "source": [
    "elemento = elementos[1].text.split('\\n')\n",
    "for i, c in enumerate(elemento):\n",
    "    print(i, c)\n",
    "len(elemento)\n",
    "\n"
   ]
  },
  {
   "cell_type": "code",
   "execution_count": 103,
   "metadata": {},
   "outputs": [],
   "source": [
    "def bet20_live():\n",
    "    df_20bet = pd.DataFrame(columns=['teams', '1_20b', 'X_20b', '2_20b', 'under_20b', 'goals_20b', 'over_20b', 'tipo'])\n",
    "    elementos = veinte.find_elements(By.CSS_SELECTOR, f'div[class=\"event-table__row\"]')\n",
    "    i=0\n",
    "    for partido in elementos:\n",
    "        elemento = partido.text.split('\\n')\n",
    "        partido.location_once_scrolled_into_view\n",
    "        #time.sleep(0.15)\n",
    "        if len(elemento)==17:\n",
    "            teams = elemento[2]+' '+elemento[4]\n",
    "            teams = ''.join([i for i in teams if not i.isdigit()])\n",
    "            home  = elemento[7]\n",
    "            tie   = elemento[8]\n",
    "            away  = elemento[9]\n",
    "            under = elemento[-3]\n",
    "            goals = elemento[-2]\n",
    "            over  = elemento[-1]\n",
    "            tipo  = 1\n",
    "            #print(teams,'|', home, tie, away,'||' ,under, goals, over, f' len: {len(elemento)}, i: {i}, tipo 1')\n",
    "        if len(elemento)==18:\n",
    "            teams = elemento[2]+' '+elemento[4]\n",
    "            teams = ''.join([i for i in teams if not i.isdigit()])\n",
    "            home  = elemento[7]\n",
    "            tie   = elemento[8]\n",
    "            away  = elemento[9]\n",
    "            under = elemento[-3]\n",
    "            goals = elemento[-2]\n",
    "            over  = elemento[-1]\n",
    "            tipo  = 2\n",
    "            #print(teams,'|', home, tie, away,'||' ,under, goals, over, f' len: {len(elemento)}, i: {i}, tipo 2')\n",
    "        if len(elemento)==19:\n",
    "            teams = elemento[2]+' '+elemento[5]+' '+elemento[4]\n",
    "            teams = ''.join([i for i in teams if not i.isdigit()])\n",
    "            home  = elemento[7]\n",
    "            tie   = elemento[8]\n",
    "            away  = elemento[9]\n",
    "            under = elemento[-3]\n",
    "            goals = elemento[-2]\n",
    "            over  = elemento[-1]        \n",
    "            tipo  = 3\n",
    "            #print(teams,'|', home, tie, away,'||' ,under, goals, over, f' len: {len(elemento)}, i: {i}, tipo 3')\n",
    "        try:\n",
    "            df_20bet.loc[len(df_20bet.index)] = [teams, home, tie, away, under, goals, over , tipo]\n",
    "        except:\n",
    "            pass\n",
    "            \n",
    "\n",
    "        \n",
    "\n",
    "        \n",
    "    elementos[0].location_once_scrolled_into_view\n",
    "    df_20bet.drop_duplicates(inplace=True)\n",
    "    df_20bet.to_csv('CSV\\df_20bet_live.csv')\n",
    "    return df_20bet"
   ]
  },
  {
   "cell_type": "code",
   "execution_count": 36,
   "metadata": {},
   "outputs": [
    {
     "data": {
      "text/plain": [
       "['2ª parte0:20:0', 'Fluminense RJ', '0', 'America Mineiro', '2']"
      ]
     },
     "execution_count": 36,
     "metadata": {},
     "output_type": "execute_result"
    }
   ],
   "source": [
    "elemento"
   ]
  },
  {
   "cell_type": "code",
   "execution_count": null,
   "metadata": {},
   "outputs": [],
   "source": []
  }
 ],
 "metadata": {
  "kernelspec": {
   "display_name": "Python 3.9.13 64-bit (microsoft store)",
   "language": "python",
   "name": "python3"
  },
  "language_info": {
   "codemirror_mode": {
    "name": "ipython",
    "version": 3
   },
   "file_extension": ".py",
   "mimetype": "text/x-python",
   "name": "python",
   "nbconvert_exporter": "python",
   "pygments_lexer": "ipython3",
   "version": "3.9.13"
  },
  "orig_nbformat": 4,
  "vscode": {
   "interpreter": {
    "hash": "006c2b932914ff8e95f30e749041e4b399d36857f00ee48d79cb79341a100acd"
   }
  }
 },
 "nbformat": 4,
 "nbformat_minor": 2
}
