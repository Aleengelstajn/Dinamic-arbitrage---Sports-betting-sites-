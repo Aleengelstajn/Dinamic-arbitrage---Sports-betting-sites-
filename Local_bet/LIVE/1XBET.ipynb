{
 "cells": [
  {
   "cell_type": "code",
   "execution_count": null,
   "metadata": {},
   "outputs": [],
   "source": [
    "''' LIBRARIES '''\n",
    "from selenium import webdriver\n",
    "from selenium.webdriver.chrome.options import Options\n",
    "from selenium.webdriver.support.ui import Select\n",
    "from selenium.webdriver.common.by import By\n",
    "from selenium.webdriver.support.ui import WebDriverWait\n",
    "from selenium.webdriver.support import expected_conditions as EC\n",
    "\n",
    "import time\n",
    "from IPython.display import clear_output\n",
    "\n",
    "from fuzzywuzzy import process, fuzz\n",
    "from sympy import symbols, Eq, solve\n",
    "import pandas as pd\n",
    "import numpy as np"
   ]
  },
  {
   "cell_type": "markdown",
   "metadata": {},
   "source": [
    "# 1XBET\n",
    "## LIVE"
   ]
  },
  {
   "cell_type": "code",
   "execution_count": null,
   "metadata": {},
   "outputs": [],
   "source": [
    "''' NAVIGATOR '''\n",
    "url_xbet = 'https://ar.1xbet.com/es/live/football'\n",
    "\n",
    "#changing chromedriver default options\n",
    "options = Options()\n",
    "options.headless = False #for not opening the navigator\n",
    "options.add_argument('window-size=1920x1080') #Headless = True\n",
    "#xbet = webdriver.Chrome(r'C:\\Users\\Willy\\Desktop\\Ale\\UpWork\\LIVE-ODDS-Scrape-and-calculate-different-strategies\\chromedriver.exe', options=options)\n",
    "xbet = webdriver.Chrome(r'C:\\Users\\KNL\\Desktop\\Ale\\Upwork\\Scraping_bets\\chromedriver.exe', options=options)\n",
    "xbet.get(url_xbet)\n",
    "xbet.set_window_size(1920, 1080)"
   ]
  },
  {
   "cell_type": "code",
   "execution_count": null,
   "metadata": {},
   "outputs": [],
   "source": [
    "elemento =xbet.find_element(By.XPATH, f'/html/body/div[3]/div[1]/div[2]/div/div/div[4]/div/div/div[1]/div/div[1]/div[2]').text.split('\\n')\n",
    "for i, c in enumerate(elemento):\n",
    "    print(i, c)"
   ]
  },
  {
   "cell_type": "code",
   "execution_count": null,
   "metadata": {},
   "outputs": [],
   "source": [
    "def One_xbet():\n",
    "    df_xbet = pd.DataFrame(columns=['teams_xbet','1_bet', 'X_bet', '2_bet' ,'goals_xbet', 'over_xbet', 'under_xbet'])\n",
    "    for k in range(40):\n",
    "        for j in range(5):\n",
    "            try:\n",
    "                elemento =xbet.find_element(By.XPATH, f'/html/body/div[3]/div[1]/div[2]/div/div/div[4]/div/div/div[1]/div/div[{k}]/div[{j}]').text.split('\\n')\n",
    "                teams = elemento[0]+' '+elemento[1]\n",
    "\n",
    "                home = elemento[11]\n",
    "                tie  = elemento[12]\n",
    "                away = elemento[13]\n",
    "\n",
    "                over = elemento[15]\n",
    "                goals = elemento[16]\n",
    "                under = elemento[17]\n",
    "                \n",
    "                df_xbet.loc[len(df_xbet.index)]= [teams, home, tie, away, goals, over, under]\n",
    "                #print(elemento[0], elemento[1], k,'  ', j)\n",
    "            except:\n",
    "                pass\n",
    "\n",
    "    return df_xbet"
   ]
  },
  {
   "cell_type": "code",
   "execution_count": null,
   "metadata": {},
   "outputs": [],
   "source": [
    "One_xbet()"
   ]
  },
  {
   "cell_type": "markdown",
   "metadata": {},
   "source": [
    "## PREMATCH"
   ]
  },
  {
   "cell_type": "code",
   "execution_count": 6,
   "metadata": {},
   "outputs": [
    {
     "name": "stderr",
     "output_type": "stream",
     "text": [
      "C:\\Users\\KNL\\AppData\\Local\\Temp\\ipykernel_7216\\2301741658.py:9: DeprecationWarning: executable_path has been deprecated, please pass in a Service object\n",
      "  xbet = webdriver.Chrome(r'C:\\Users\\KNL\\Desktop\\Ale\\Upwork\\Scraping_bets\\chromedriver.exe', options=options)\n"
     ]
    }
   ],
   "source": [
    "''' NAVIGATOR 1XBET PREMATCH '''\n",
    "url_xbet = 'https://ar.1xbet.com/es/line/football'\n",
    "\n",
    "#changing chromedriver default options\n",
    "options = Options()\n",
    "options.headless = False #for not opening the navigator\n",
    "options.add_argument('window-size=1920x1080') #Headless = True\n",
    "#xbet = webdriver.Chrome(r'C:\\Users\\Willy\\Desktop\\Ale\\UpWork\\LIVE-ODDS-Scrape-and-calculate-different-strategies\\chromedriver.exe', options=options)\n",
    "xbet = webdriver.Chrome(r'C:\\Users\\KNL\\Desktop\\Ale\\Upwork\\Scraping_bets\\chromedriver.exe', options=options)\n",
    "xbet.get(url_xbet)\n",
    "xbet.maximize_window()\n",
    "\n",
    "notificaciones = WebDriverWait(xbet, 3).until(EC.presence_of_element_located((By.CSS_SELECTOR, 'a.pf-subs-btn-link')))\n",
    "notificaciones.click()"
   ]
  },
  {
   "cell_type": "code",
   "execution_count": 8,
   "metadata": {},
   "outputs": [
    {
     "ename": "NoSuchElementException",
     "evalue": "Message: no such element: Unable to locate element: {\"method\":\"xpath\",\"selector\":\"//*[@id=\"games_content\"]/div/div[2]/div/div[1]/div[14]\"}\n  (Session info: chrome=106.0.5249.91)\nStacktrace:\nBacktrace:\n\tOrdinal0 [0x0091DF13+2219795]\n\tOrdinal0 [0x008B2841+1779777]\n\tOrdinal0 [0x007C423D+803389]\n\tOrdinal0 [0x007F3025+995365]\n\tOrdinal0 [0x007F31EB+995819]\n\tOrdinal0 [0x00820F52+1183570]\n\tOrdinal0 [0x0080E844+1108036]\n\tOrdinal0 [0x0081F192+1175954]\n\tOrdinal0 [0x0080E616+1107478]\n\tOrdinal0 [0x007E7F89+950153]\n\tOrdinal0 [0x007E8F56+954198]\n\tGetHandleVerifier [0x00C12CB2+3040210]\n\tGetHandleVerifier [0x00C02BB4+2974420]\n\tGetHandleVerifier [0x009B6A0A+565546]\n\tGetHandleVerifier [0x009B5680+560544]\n\tOrdinal0 [0x008B9A5C+1808988]\n\tOrdinal0 [0x008BE3A8+1827752]\n\tOrdinal0 [0x008BE495+1827989]\n\tOrdinal0 [0x008C80A4+1867940]\n\tBaseThreadInitThunk [0x75C86739+25]\n\tRtlGetFullPathName_UEx [0x77418FD2+1218]\n\tRtlGetFullPathName_UEx [0x77418F9D+1165]\n",
     "output_type": "error",
     "traceback": [
      "\u001b[1;31m---------------------------------------------------------------------------\u001b[0m",
      "\u001b[1;31mNoSuchElementException\u001b[0m                    Traceback (most recent call last)",
      "\u001b[1;32mc:\\Users\\KNL\\Desktop\\Ale\\Upwork\\Scraping_bets\\LIVE-ODDS-Scrape-and-calculate-different-strategies\\Local_bet\\LIVE\\1XBET.ipynb Cell 9\u001b[0m in \u001b[0;36m<cell line: 1>\u001b[1;34m()\u001b[0m\n\u001b[1;32m----> <a href='vscode-notebook-cell:/c%3A/Users/KNL/Desktop/Ale/Upwork/Scraping_bets/LIVE-ODDS-Scrape-and-calculate-different-strategies/Local_bet/LIVE/1XBET.ipynb#X12sZmlsZQ%3D%3D?line=0'>1</a>\u001b[0m elemento \u001b[39m=\u001b[39mxbet\u001b[39m.\u001b[39;49mfind_element(By\u001b[39m.\u001b[39;49mXPATH, \u001b[39m'\u001b[39;49m\u001b[39m//*[@id=\u001b[39;49m\u001b[39m\"\u001b[39;49m\u001b[39mgames_content\u001b[39;49m\u001b[39m\"\u001b[39;49m\u001b[39m]/div/div[2]/div/div[1]/div[14]\u001b[39;49m\u001b[39m'\u001b[39;49m)\u001b[39m.\u001b[39mtext\u001b[39m.\u001b[39msplit(\u001b[39m'\u001b[39m\u001b[39m\\n\u001b[39;00m\u001b[39m'\u001b[39m)\n\u001b[0;32m      <a href='vscode-notebook-cell:/c%3A/Users/KNL/Desktop/Ale/Upwork/Scraping_bets/LIVE-ODDS-Scrape-and-calculate-different-strategies/Local_bet/LIVE/1XBET.ipynb#X12sZmlsZQ%3D%3D?line=1'>2</a>\u001b[0m \u001b[39mfor\u001b[39;00m i, c \u001b[39min\u001b[39;00m \u001b[39menumerate\u001b[39m(elemento):\n\u001b[0;32m      <a href='vscode-notebook-cell:/c%3A/Users/KNL/Desktop/Ale/Upwork/Scraping_bets/LIVE-ODDS-Scrape-and-calculate-different-strategies/Local_bet/LIVE/1XBET.ipynb#X12sZmlsZQ%3D%3D?line=2'>3</a>\u001b[0m     \u001b[39mprint\u001b[39m(i, c)\n",
      "File \u001b[1;32m~\\AppData\\Local\\Packages\\PythonSoftwareFoundation.Python.3.9_qbz5n2kfra8p0\\LocalCache\\local-packages\\Python39\\site-packages\\selenium\\webdriver\\remote\\webdriver.py:856\u001b[0m, in \u001b[0;36mWebDriver.find_element\u001b[1;34m(self, by, value)\u001b[0m\n\u001b[0;32m    853\u001b[0m     by \u001b[39m=\u001b[39m By\u001b[39m.\u001b[39mCSS_SELECTOR\n\u001b[0;32m    854\u001b[0m     value \u001b[39m=\u001b[39m \u001b[39m'\u001b[39m\u001b[39m[name=\u001b[39m\u001b[39m\"\u001b[39m\u001b[39m%s\u001b[39;00m\u001b[39m\"\u001b[39m\u001b[39m]\u001b[39m\u001b[39m'\u001b[39m \u001b[39m%\u001b[39m value\n\u001b[1;32m--> 856\u001b[0m \u001b[39mreturn\u001b[39;00m \u001b[39mself\u001b[39;49m\u001b[39m.\u001b[39;49mexecute(Command\u001b[39m.\u001b[39;49mFIND_ELEMENT, {\n\u001b[0;32m    857\u001b[0m     \u001b[39m'\u001b[39;49m\u001b[39musing\u001b[39;49m\u001b[39m'\u001b[39;49m: by,\n\u001b[0;32m    858\u001b[0m     \u001b[39m'\u001b[39;49m\u001b[39mvalue\u001b[39;49m\u001b[39m'\u001b[39;49m: value})[\u001b[39m'\u001b[39m\u001b[39mvalue\u001b[39m\u001b[39m'\u001b[39m]\n",
      "File \u001b[1;32m~\\AppData\\Local\\Packages\\PythonSoftwareFoundation.Python.3.9_qbz5n2kfra8p0\\LocalCache\\local-packages\\Python39\\site-packages\\selenium\\webdriver\\remote\\webdriver.py:429\u001b[0m, in \u001b[0;36mWebDriver.execute\u001b[1;34m(self, driver_command, params)\u001b[0m\n\u001b[0;32m    427\u001b[0m response \u001b[39m=\u001b[39m \u001b[39mself\u001b[39m\u001b[39m.\u001b[39mcommand_executor\u001b[39m.\u001b[39mexecute(driver_command, params)\n\u001b[0;32m    428\u001b[0m \u001b[39mif\u001b[39;00m response:\n\u001b[1;32m--> 429\u001b[0m     \u001b[39mself\u001b[39;49m\u001b[39m.\u001b[39;49merror_handler\u001b[39m.\u001b[39;49mcheck_response(response)\n\u001b[0;32m    430\u001b[0m     response[\u001b[39m'\u001b[39m\u001b[39mvalue\u001b[39m\u001b[39m'\u001b[39m] \u001b[39m=\u001b[39m \u001b[39mself\u001b[39m\u001b[39m.\u001b[39m_unwrap_value(\n\u001b[0;32m    431\u001b[0m         response\u001b[39m.\u001b[39mget(\u001b[39m'\u001b[39m\u001b[39mvalue\u001b[39m\u001b[39m'\u001b[39m, \u001b[39mNone\u001b[39;00m))\n\u001b[0;32m    432\u001b[0m     \u001b[39mreturn\u001b[39;00m response\n",
      "File \u001b[1;32m~\\AppData\\Local\\Packages\\PythonSoftwareFoundation.Python.3.9_qbz5n2kfra8p0\\LocalCache\\local-packages\\Python39\\site-packages\\selenium\\webdriver\\remote\\errorhandler.py:243\u001b[0m, in \u001b[0;36mErrorHandler.check_response\u001b[1;34m(self, response)\u001b[0m\n\u001b[0;32m    241\u001b[0m         alert_text \u001b[39m=\u001b[39m value[\u001b[39m'\u001b[39m\u001b[39malert\u001b[39m\u001b[39m'\u001b[39m]\u001b[39m.\u001b[39mget(\u001b[39m'\u001b[39m\u001b[39mtext\u001b[39m\u001b[39m'\u001b[39m)\n\u001b[0;32m    242\u001b[0m     \u001b[39mraise\u001b[39;00m exception_class(message, screen, stacktrace, alert_text)  \u001b[39m# type: ignore[call-arg]  # mypy is not smart enough here\u001b[39;00m\n\u001b[1;32m--> 243\u001b[0m \u001b[39mraise\u001b[39;00m exception_class(message, screen, stacktrace)\n",
      "\u001b[1;31mNoSuchElementException\u001b[0m: Message: no such element: Unable to locate element: {\"method\":\"xpath\",\"selector\":\"//*[@id=\"games_content\"]/div/div[2]/div/div[1]/div[14]\"}\n  (Session info: chrome=106.0.5249.91)\nStacktrace:\nBacktrace:\n\tOrdinal0 [0x0091DF13+2219795]\n\tOrdinal0 [0x008B2841+1779777]\n\tOrdinal0 [0x007C423D+803389]\n\tOrdinal0 [0x007F3025+995365]\n\tOrdinal0 [0x007F31EB+995819]\n\tOrdinal0 [0x00820F52+1183570]\n\tOrdinal0 [0x0080E844+1108036]\n\tOrdinal0 [0x0081F192+1175954]\n\tOrdinal0 [0x0080E616+1107478]\n\tOrdinal0 [0x007E7F89+950153]\n\tOrdinal0 [0x007E8F56+954198]\n\tGetHandleVerifier [0x00C12CB2+3040210]\n\tGetHandleVerifier [0x00C02BB4+2974420]\n\tGetHandleVerifier [0x009B6A0A+565546]\n\tGetHandleVerifier [0x009B5680+560544]\n\tOrdinal0 [0x008B9A5C+1808988]\n\tOrdinal0 [0x008BE3A8+1827752]\n\tOrdinal0 [0x008BE495+1827989]\n\tOrdinal0 [0x008C80A4+1867940]\n\tBaseThreadInitThunk [0x75C86739+25]\n\tRtlGetFullPathName_UEx [0x77418FD2+1218]\n\tRtlGetFullPathName_UEx [0x77418F9D+1165]\n"
     ]
    }
   ],
   "source": [
    "elemento =xbet.find_element(By.XPATH, '//*[@id=\"games_content\"]/div/div[2]/div/div[1]/div[14]').text.split('\\n')\n",
    "for i, c in enumerate(elemento):\n",
    "    print(i, c)"
   ]
  },
  {
   "cell_type": "code",
   "execution_count": null,
   "metadata": {},
   "outputs": [],
   "source": [
    "div.c-events__item.c-events__item_col:nth-of-type({})"
   ]
  },
  {
   "cell_type": "code",
   "execution_count": 9,
   "metadata": {},
   "outputs": [],
   "source": [
    "def One_xbet_pre():\n",
    "    df_xbet = pd.DataFrame(columns=['teams_xbet','1_bet', 'X_bet', '2_bet' ,'goals_xbet', 'over_xbet', 'under_xbet'])\n",
    "    for k in range(40):\n",
    "        for j in range(5):\n",
    "            try:\n",
    "                elemento =xbet.find_element(By.XPATH, f'//*[@id=\"games_content\"]/div/div[2]/div/div[1]/div[{k}]').text.split('\\n')\n",
    "                teams = elemento[0]+' '+elemento[1]\n",
    "\n",
    "                home = elemento[11]\n",
    "                tie  = elemento[12]\n",
    "                away = elemento[13]\n",
    "\n",
    "                over = elemento[15]\n",
    "                goals = elemento[16]\n",
    "                under = elemento[17]\n",
    "                \n",
    "                df_xbet.loc[len(df_xbet.index)]= [teams, home, tie, away, goals, over, under]\n",
    "                #print(elemento[0], elemento[1], k,'  ', j)\n",
    "            except:\n",
    "                pass\n",
    "\n",
    "    return df_xbet"
   ]
  },
  {
   "cell_type": "code",
   "execution_count": 10,
   "metadata": {},
   "outputs": [
    {
     "data": {
      "text/html": [
       "<div>\n",
       "<style scoped>\n",
       "    .dataframe tbody tr th:only-of-type {\n",
       "        vertical-align: middle;\n",
       "    }\n",
       "\n",
       "    .dataframe tbody tr th {\n",
       "        vertical-align: top;\n",
       "    }\n",
       "\n",
       "    .dataframe thead th {\n",
       "        text-align: right;\n",
       "    }\n",
       "</style>\n",
       "<table border=\"1\" class=\"dataframe\">\n",
       "  <thead>\n",
       "    <tr style=\"text-align: right;\">\n",
       "      <th></th>\n",
       "      <th>teams_xbet</th>\n",
       "      <th>1_bet</th>\n",
       "      <th>X_bet</th>\n",
       "      <th>2_bet</th>\n",
       "      <th>goals_xbet</th>\n",
       "      <th>over_xbet</th>\n",
       "      <th>under_xbet</th>\n",
       "    </tr>\n",
       "  </thead>\n",
       "  <tbody>\n",
       "  </tbody>\n",
       "</table>\n",
       "</div>"
      ],
      "text/plain": [
       "Empty DataFrame\n",
       "Columns: [teams_xbet, 1_bet, X_bet, 2_bet, goals_xbet, over_xbet, under_xbet]\n",
       "Index: []"
      ]
     },
     "execution_count": 10,
     "metadata": {},
     "output_type": "execute_result"
    }
   ],
   "source": [
    "One_xbet_pre()"
   ]
  },
  {
   "cell_type": "code",
   "execution_count": null,
   "metadata": {},
   "outputs": [],
   "source": []
  }
 ],
 "metadata": {
  "kernelspec": {
   "display_name": "Python 3.9.13 64-bit (microsoft store)",
   "language": "python",
   "name": "python3"
  },
  "language_info": {
   "codemirror_mode": {
    "name": "ipython",
    "version": 3
   },
   "file_extension": ".py",
   "mimetype": "text/x-python",
   "name": "python",
   "nbconvert_exporter": "python",
   "pygments_lexer": "ipython3",
   "version": "3.9.13"
  },
  "orig_nbformat": 4,
  "vscode": {
   "interpreter": {
    "hash": "006c2b932914ff8e95f30e749041e4b399d36857f00ee48d79cb79341a100acd"
   }
  }
 },
 "nbformat": 4,
 "nbformat_minor": 2
}
