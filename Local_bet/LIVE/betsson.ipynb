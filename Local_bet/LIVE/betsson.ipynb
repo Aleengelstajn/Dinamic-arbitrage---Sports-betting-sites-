{
 "cells": [
  {
   "cell_type": "code",
   "execution_count": null,
   "metadata": {},
   "outputs": [],
   "source": [
    "''' LIBRARIES '''\n",
    "from selenium import webdriver\n",
    "from selenium.webdriver.chrome.options import Options\n",
    "from selenium.webdriver.support.ui import Select\n",
    "from selenium.webdriver.common.by import By\n",
    "from selenium.webdriver.support.ui import WebDriverWait\n",
    "from selenium.webdriver.support import expected_conditions as EC\n",
    "from selenium.webdriver import ActionChains\n",
    "\n",
    "import re\n",
    "import time\n",
    "from IPython.display import clear_output\n",
    "import multiprocessing\n",
    "import threading\n",
    "from tqdm import tqdm\n",
    "import warnings\n",
    "warnings.filterwarnings(\"ignore\")\n",
    "\n",
    "from fuzzywuzzy import process, fuzz\n",
    "from sympy import symbols, Eq, solve\n",
    "import pandas as pd\n",
    "import numpy as np"
   ]
  },
  {
   "cell_type": "markdown",
   "metadata": {},
   "source": [
    "# BETSSON\n",
    "## Live"
   ]
  },
  {
   "cell_type": "code",
   "execution_count": null,
   "metadata": {},
   "outputs": [],
   "source": [
    "''' NAVIGATOR BETSSON '''\n",
    "url_bet = 'https://pba.betsson.bet.ar/apuestas-deportivas/futbol'\n",
    "\n",
    "#changing chromedriver default options\n",
    "options = Options()\n",
    "options.headless = False #for not opening the navigator\n",
    "options.add_argument('window-size=1920x1080') #Headless = True\n",
    "#bets = webdriver.Chrome(r'C:\\Users\\Willy\\Desktop\\Ale\\UpWork\\LIVE-ODDS-Scrape-and-calculate-different-strategies\\chromedriver.exe', options=options)\n",
    "bets = webdriver.Chrome(r'C:\\Users\\KNL\\Desktop\\Ale\\Upwork\\Scraping_bets\\chromedriver.exe', options=options)\n",
    "bets.get(url_bet)\n",
    "bets.maximize_window()"
   ]
  },
  {
   "cell_type": "code",
   "execution_count": null,
   "metadata": {},
   "outputs": [],
   "source": [
    "for idx, c in enumerate(elemento):\n",
    "    print(idx, c)\n",
    "print(f'len: {len(elemento)}')"
   ]
  },
  {
   "cell_type": "code",
   "execution_count": null,
   "metadata": {},
   "outputs": [],
   "source": [
    "def betsson_live():    \n",
    "    df_bet = pd.DataFrame(columns=['teams', '1_bets', 'X_bets', '2_bets', 'under_bets', 'goals_bets', 'over_bets'])\n",
    "    for k in range(30):\n",
    "        try:\n",
    "            elemento = elemento = bets.find_element(By.XPATH, f'/html/body/obg-app-root/div/obg-m-betting-layout-container/obg-m-sportsbook-layout-container/obg-m-sidenav/mat-sidenav-container/mat-sidenav-content/div/div/ng-scrollbar/div/div/div/div/section/ng-component/obg-m-category-container/obg-m-events-master-detail-tabs-container/obg-m-events-master-detail-container/div/obg-accordion-content[1]/div/obg-show-more-less/obg-event-table-container/div/obg-event-row-container[{k}]').text.split('\\n')\n",
    "            print(k, teams, len(elemento))\n",
    "            \n",
    "            teams = elemento[1]+' '+elemento[2]\n",
    "            \n",
    "            home = elemento[9]\n",
    "            tie = elemento[11]\n",
    "            away = elemento[13]\n",
    "            \n",
    "            if len(elemento)==26:\n",
    "                under = elemento[18]\n",
    "                goals = \"\".join(re.findall(r'\\d+', elemento[17]))\n",
    "                over = elemento[16]\n",
    "\n",
    "            if len(elemento)==35:\n",
    "                under = elemento[19]\n",
    "                goals = \"\".join(re.findall(r'\\d+', elemento[18]))\n",
    "                over = elemento[17]      \n",
    "\n",
    "            if len(elemento) == 21:\n",
    "                under = elemento[18]\n",
    "                goals = \"\".join(re.findall(r'\\d+', elemento[17]))\n",
    "                over = elemento[16]     \n",
    "\n",
    "            df_bet.loc[len(df_bet.index)]  = [teams, home, tie, away, under, goals, over]\n",
    "        except:\n",
    "            pass\n",
    "    df_bet.to_csv('CSV\\df_bet_live.csv')\n",
    "    return df_bet\n",
    "#df_bet"
   ]
  },
  {
   "cell_type": "code",
   "execution_count": null,
   "metadata": {},
   "outputs": [],
   "source": [
    "df_bet = pd.DataFrame(columns=['teams', '1_bets', 'X_bets', '2_bets', 'under_bets', 'goals_bets', 'over_bets'])\n",
    "for k in range(30):\n",
    "    try:\n",
    "        elemento = elemento = bets.find_element(By.CSS_SELECTOR, f'obg-event-row-container[test-id^=\"f-\"]:nth-of-type({k})').text.split('\\n')\n",
    "        print(k, elemento[1]+' '+ elemento[2], len(elemento))\n",
    "    except:\n",
    "        pass"
   ]
  },
  {
   "cell_type": "code",
   "execution_count": null,
   "metadata": {},
   "outputs": [],
   "source": [
    "betsson_live()"
   ]
  },
  {
   "cell_type": "markdown",
   "metadata": {},
   "source": [
    "## PREMATCH"
   ]
  },
  {
   "cell_type": "code",
   "execution_count": null,
   "metadata": {},
   "outputs": [],
   "source": [
    "''' NAVIGATOR BETSSON '''\n",
    "url_bet = 'https://pba.betsson.bet.ar/apuestas-deportivas/futbol'\n",
    "\n",
    "#changing chromedriver default options\n",
    "options = Options()\n",
    "options.headless = False #for not opening the navigator\n",
    "options.add_argument('window-size=1920x1080') #Headless = True\n",
    "#bets = webdriver.Chrome(r'C:\\Users\\Willy\\Desktop\\Ale\\UpWork\\LIVE-ODDS-Scrape-and-calculate-different-strategies\\chromedriver.exe', options=options)\n",
    "bets = webdriver.Chrome(r'C:\\Users\\KNL\\Desktop\\Ale\\Upwork\\Scraping_bets\\chromedriver.exe', options=options)\n",
    "bets.get(url_bet)\n",
    "bets.maximize_window()\n",
    "cookie = bets.find_element(By.CSS_SELECTOR, 'button#onetrust-accept-btn-handler')\n",
    "cookie.click()\n",
    "\n",
    "print('first sleep')\n",
    "time.sleep(10)\n",
    "today = WebDriverWait(bets, 10).until(EC.presence_of_element_located((By.XPATH, '/html/body/obg-app-root/div/obg-m-betting-layout-container/obg-m-sportsbook-layout-container/obg-m-sidenav/mat-sidenav-container/mat-sidenav-content/div/div/ng-scrollbar/div/div/div/div/section/ng-component/obg-m-category-container/obg-m-events-master-detail-tabs-container/obg-m-events-master-detail-container/div/div[2]/span[1]')))\n",
    "today.click()\n",
    "\n",
    "actions = ActionChains(bets)\n",
    "print('second sleep')\n",
    "time.sleep(5)\n",
    "show_more= WebDriverWait(bets, 5).until(EC.presence_of_element_located((By.CSS_SELECTOR, 'button.obg-show-more-less-button')))\n",
    "actions.move_to_element(show_more).perform()\n",
    "show_more.click()"
   ]
  },
  {
   "cell_type": "code",
   "execution_count": null,
   "metadata": {},
   "outputs": [],
   "source": [
    "obg-event-row-container[test-id^=\"f-\"]:nth-of-type(2)\n",
    "/html/body/obg-app-root/div/obg-m-betting-layout-container/obg-m-sportsbook-layout-container/obg-m-sidenav/mat-sidenav-container/mat-sidenav-content/div/div/ng-scrollbar/div/div/div/div/section/ng-component/obg-m-category-container/obg-m-events-master-detail-tabs-container/obg-m-events-master-detail-container/div/obg-accordion-content[4]/div/obg-show-more-less/obg-event-table-container/div/obg-event-row-container[4]/div/div[1]\n",
    "/html/body/obg-app-root/div/obg-m-betting-layout-container/obg-m-sportsbook-layout-container/obg-m-sidenav/mat-sidenav-container/mat-sidenav-content/div/div/ng-scrollbar/div/div/div/div/section/ng-component/obg-m-category-container/obg-m-events-master-detail-tabs-container/obg-m-events-master-detail-container/div/obg-accordion-content[{j}]/div/obg-show-more-less/obg-event-table-container/div/obg-event-row-container[{k}]"
   ]
  },
  {
   "cell_type": "code",
   "execution_count": null,
   "metadata": {},
   "outputs": [],
   "source": [
    "elemento = bets.find_element(By.XPATH, '/html/body/obg-app-root/div/obg-m-betting-layout-container/obg-m-sportsbook-layout-container/obg-m-sidenav/mat-sidenav-container/mat-sidenav-content/div/div/ng-scrollbar/div/div/div/div/section/ng-component/obg-m-category-container/obg-m-events-master-detail-tabs-container/obg-m-events-master-detail-container/div/obg-accordion-content[6]/div/obg-show-more-less/obg-event-table-container/div/obg-event-row-container[7]/div/div[1]').text.split('\\n')\n",
    "for i, c in enumerate(elemento):\n",
    "    print(i, c)"
   ]
  },
  {
   "cell_type": "code",
   "execution_count": null,
   "metadata": {},
   "outputs": [],
   "source": [
    "def betsson_pre():\n",
    "    df_bet = pd.DataFrame(columns=['teams', '1_betson', 'X_betson', '2_betson', 'under_betson', 'goals_betson', 'over_betson'])\n",
    "    for j in range(10):\n",
    "        for k in range(25):\n",
    "            try:\n",
    "                scroll = bets.find_element(By.XPATH, f'/html/body/obg-app-root/div/obg-m-betting-layout-container/obg-m-sportsbook-layout-container/obg-m-sidenav/mat-sidenav-container/mat-sidenav-content/div/div/ng-scrollbar/div/div/div/div/section/ng-component/obg-m-category-container/obg-m-events-master-detail-tabs-container/obg-m-events-master-detail-container/div/obg-accordion-content[{j}]/div/obg-show-more-less/obg-event-table-container/div/obg-event-row-container[{k}]/div/div[1]')\n",
    "                scroll.location_once_scrolled_into_view\n",
    "                elemento= bets.find_element(By.XPATH, f'/html/body/obg-app-root/div/obg-m-betting-layout-container/obg-m-sportsbook-layout-container/obg-m-sidenav/mat-sidenav-container/mat-sidenav-content/div/div/ng-scrollbar/div/div/div/div/section/ng-component/obg-m-category-container/obg-m-events-master-detail-tabs-container/obg-m-events-master-detail-container/div/obg-accordion-content[{j}]/div/obg-show-more-less/obg-event-table-container/div/obg-event-row-container[{k}]/div/div[1]').text.split('\\n')\n",
    "\n",
    "                teams = elemento[1]+' '+elemento[2]\n",
    "\n",
    "                home = elemento[7]\n",
    "                tie = elemento[9]\n",
    "                away = elemento[11]\n",
    "\n",
    "                under = elemento[17]\n",
    "                goals = int(\"\".join(re.findall(r'\\d+', elemento[16])))/10\n",
    "                over = elemento[15]\n",
    "\n",
    "                #print(elemento[1]+' '+elemento[2], f'         ||len elemento: {len(elemento)}, j:{j}, k{k}')\n",
    "                df_bet.loc[len(df_bet.index)] = [teams, home, tie, away, under, goals, over]\n",
    "            except:\n",
    "                pass\n",
    "    for j in range(10):\n",
    "        for k in range(25):\n",
    "            try:\n",
    "                scroll = bets.find_element(By.XPATH, f'/html/body/obg-app-root/div/obg-m-betting-layout-container/obg-m-sportsbook-layout-container/obg-m-sidenav/mat-sidenav-container/mat-sidenav-content/div/div/ng-scrollbar/div/div/div/div/section/ng-component/obg-m-category-container/obg-m-events-master-detail-tabs-container/obg-m-events-master-detail-container/div/obg-accordion-content[{10-j}]/div/obg-show-more-less/obg-event-table-container/div/obg-event-row-container[{25-k}]/div/div[1]')\n",
    "                scroll.location_once_scrolled_into_view\n",
    "            except:\n",
    "                pass\n",
    "    df_bet.to_csv('CSV\\df_bet_pre.csv')\n",
    "    return df_bet"
   ]
  },
  {
   "cell_type": "code",
   "execution_count": null,
   "metadata": {},
   "outputs": [],
   "source": [
    "betsson_pre()"
   ]
  }
 ],
 "metadata": {
  "kernelspec": {
   "display_name": "Python 3.9.13 64-bit (microsoft store)",
   "language": "python",
   "name": "python3"
  },
  "language_info": {
   "codemirror_mode": {
    "name": "ipython",
    "version": 3
   },
   "file_extension": ".py",
   "mimetype": "text/x-python",
   "name": "python",
   "nbconvert_exporter": "python",
   "pygments_lexer": "ipython3",
   "version": "3.9.13"
  },
  "orig_nbformat": 4,
  "vscode": {
   "interpreter": {
    "hash": "006c2b932914ff8e95f30e749041e4b399d36857f00ee48d79cb79341a100acd"
   }
  }
 },
 "nbformat": 4,
 "nbformat_minor": 2
}
