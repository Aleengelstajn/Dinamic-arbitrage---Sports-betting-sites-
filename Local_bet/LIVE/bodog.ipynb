{
 "cells": [
  {
   "cell_type": "code",
   "execution_count": 1,
   "metadata": {},
   "outputs": [],
   "source": [
    "''' LIBRARIES '''\n",
    "from selenium import webdriver\n",
    "from selenium.webdriver.chrome.options import Options\n",
    "from selenium.webdriver.support.ui import Select\n",
    "from selenium.webdriver.common.by import By\n",
    "from selenium.webdriver.support.ui import WebDriverWait\n",
    "from selenium.webdriver.support import expected_conditions as EC\n",
    "from selenium.webdriver import ActionChains\n",
    "\n",
    "import re\n",
    "import time\n",
    "from IPython.display import clear_output\n",
    "import multiprocessing\n",
    "import threading\n",
    "from tqdm import tqdm\n",
    "import warnings\n",
    "warnings.filterwarnings(\"ignore\")\n",
    "\n",
    "from fuzzywuzzy import process, fuzz\n",
    "from sympy import symbols, Eq, solve\n",
    "import pandas as pd\n",
    "import numpy as np"
   ]
  },
  {
   "cell_type": "code",
   "execution_count": 2,
   "metadata": {},
   "outputs": [],
   "source": [
    "''' NAVIGATOR BODOG ''' \n",
    "\n",
    "url_bod = 'https://www.bodog.com/es/sports/live'\n",
    "\n",
    "options = Options()\n",
    "\n",
    "bod =  webdriver.Chrome(r'C:\\Users\\KNL\\Desktop\\Ale\\Upwork\\Scraping_bets\\chromedriver.exe', options=options)\n",
    "bod.get(url_bod)\n",
    "bod.maximize_window()\n"
   ]
  },
  {
   "cell_type": "code",
   "execution_count": 14,
   "metadata": {},
   "outputs": [
    {
     "data": {
      "text/plain": [
       "'/html/body/bx-site/ng-component/div/sp-sports-ui/div/main/div/section/main/sp-path-event/div/div[2]/sp-happening-now/div/div/div/div[1]/sp-coupon/sp-multi-markets/section/article'"
      ]
     },
     "execution_count": 14,
     "metadata": {},
     "output_type": "execute_result"
    }
   ],
   "source": [
    "path"
   ]
  },
  {
   "cell_type": "code",
   "execution_count": 15,
   "metadata": {},
   "outputs": [
    {
     "data": {
      "text/plain": [
       "'/html/body/bx-site/ng-component/div/sp-sports-ui/div/main/div/section/main/sp-path-event/div/div[2]/sp-happening-now/div/div/div/div[4]/sp-coupon[2]/sp-multi-markets/section/article'"
      ]
     },
     "execution_count": 15,
     "metadata": {},
     "output_type": "execute_result"
    }
   ],
   "source": [
    "path2"
   ]
  },
  {
   "cell_type": "code",
   "execution_count": 39,
   "metadata": {},
   "outputs": [
    {
     "name": "stdout",
     "output_type": "stream",
     "text": [
      "  Hapoel Kfar Shelem  Beitar Tel Aviv Bat Yam  | ['1.105', '6.25', '26.00', '2.5', '(2.15)', '2.5', '(1.667)'] || 13 j 1 k 1\n",
      " Club Almagro (R)  CA Atlanta (R)   | ['2.34', '2.42', '3.70', '3.5', '(2.20)', '3.5', '(1.625)'] || 13 j 2 k 1\n",
      "  AD Guarabira PB Serra Branca EC PB   | ['29.00', '10.50', '1.029', '5.5', '(1.714)', '5.5', '(2.08)'] || 13 j 3 k 1\n",
      "  Barracas Central (R)  Independiente (R)  | ['3.55', '2.72', '2.18', '1.5', '(1.676)', '1.5', '(2.13)'] || 15 j 4 k 1\n",
      "  Estudiantes de LP (R) Huracan (R)   | ['2.64', '2.66', '2.78', '3.5', '(1.893)', '3.5', '(1.847)'] || 14 j 4 k 2\n",
      "  Patronato (R)  Lanus (R)  | ['3.95', '2.70', '2.08', '1.5', '(1.952)', '1.5', '(1.80)'] || 14 j 4 k 3\n",
      "  Tensung FC   Ugyen Academy | ['67.00', '51.00', '1.001', '3.5', '(2.20)', '3.5', '(1.625)'] || 15 j 6 k 1\n",
      "  Persepolis  Mes Rafsanjan  | ['2.20', '2.50', '4.50', '1.5', '(1.87)', '1.5', '(1.87)'] || 13 j 7 k 1\n",
      "  Coastal Union   Geita Gold | ['3.15', '1.935', '3.60', '0.5', '(1.476)', '0.5', '(2.52)'] || 14 j 8 k 1\n",
      "  El Alominiom  Al Gounah  | ['3.60', '2.40', '2.50', '1.5', '(2.40)', '1.5', '(1.541)'] || 14 j 9 k 1\n",
      "  Misr El Maqasah Dayrout  . | ['1.667', '3.75', '4.50', '2.5', '(2.28)', '2.5', '(1.588)'] || 12 j 9 k 2\n",
      "  Telephonat Beni Suef   Mallawi SC | ['2.30', '2.62', '3.50', '1.5', '(1.926)', '1.5', '(1.820)'] || 16 j 9 k 3\n"
     ]
    },
    {
     "data": {
      "text/html": [
       "<div>\n",
       "<style scoped>\n",
       "    .dataframe tbody tr th:only-of-type {\n",
       "        vertical-align: middle;\n",
       "    }\n",
       "\n",
       "    .dataframe tbody tr th {\n",
       "        vertical-align: top;\n",
       "    }\n",
       "\n",
       "    .dataframe thead th {\n",
       "        text-align: right;\n",
       "    }\n",
       "</style>\n",
       "<table border=\"1\" class=\"dataframe\">\n",
       "  <thead>\n",
       "    <tr style=\"text-align: right;\">\n",
       "      <th></th>\n",
       "      <th>teams</th>\n",
       "      <th>home</th>\n",
       "      <th>tie</th>\n",
       "      <th>away</th>\n",
       "      <th>over</th>\n",
       "      <th>goals</th>\n",
       "      <th>under</th>\n",
       "      <th>site</th>\n",
       "    </tr>\n",
       "  </thead>\n",
       "  <tbody>\n",
       "    <tr>\n",
       "      <th>0</th>\n",
       "      <td>Hapoel Kfar Shelem  Beitar Tel Aviv Bat Yam</td>\n",
       "      <td>1.105</td>\n",
       "      <td>6.25</td>\n",
       "      <td>26.00</td>\n",
       "      <td>2.15</td>\n",
       "      <td>2.5</td>\n",
       "      <td>1.667</td>\n",
       "      <td>bodog</td>\n",
       "    </tr>\n",
       "    <tr>\n",
       "      <th>1</th>\n",
       "      <td>Club Almagro (R)  CA Atlanta (R)</td>\n",
       "      <td>2.34</td>\n",
       "      <td>2.42</td>\n",
       "      <td>3.70</td>\n",
       "      <td>2.20</td>\n",
       "      <td>3.5</td>\n",
       "      <td>1.625</td>\n",
       "      <td>bodog</td>\n",
       "    </tr>\n",
       "    <tr>\n",
       "      <th>2</th>\n",
       "      <td>AD Guarabira PB Serra Branca EC PB</td>\n",
       "      <td>29.00</td>\n",
       "      <td>10.50</td>\n",
       "      <td>1.029</td>\n",
       "      <td>1.714</td>\n",
       "      <td>5.5</td>\n",
       "      <td>2.08</td>\n",
       "      <td>bodog</td>\n",
       "    </tr>\n",
       "    <tr>\n",
       "      <th>3</th>\n",
       "      <td>Barracas Central (R)  Independiente (R)</td>\n",
       "      <td>3.55</td>\n",
       "      <td>2.72</td>\n",
       "      <td>2.18</td>\n",
       "      <td>1.676</td>\n",
       "      <td>1.5</td>\n",
       "      <td>2.13</td>\n",
       "      <td>bodog</td>\n",
       "    </tr>\n",
       "    <tr>\n",
       "      <th>4</th>\n",
       "      <td>Estudiantes de LP (R) Huracan (R)</td>\n",
       "      <td>2.64</td>\n",
       "      <td>2.66</td>\n",
       "      <td>2.78</td>\n",
       "      <td>1.893</td>\n",
       "      <td>3.5</td>\n",
       "      <td>1.847</td>\n",
       "      <td>bodog</td>\n",
       "    </tr>\n",
       "    <tr>\n",
       "      <th>5</th>\n",
       "      <td>Patronato (R)  Lanus (R)</td>\n",
       "      <td>3.95</td>\n",
       "      <td>2.70</td>\n",
       "      <td>2.08</td>\n",
       "      <td>1.952</td>\n",
       "      <td>1.5</td>\n",
       "      <td>1.80</td>\n",
       "      <td>bodog</td>\n",
       "    </tr>\n",
       "    <tr>\n",
       "      <th>6</th>\n",
       "      <td>Tensung FC   Ugyen Academy</td>\n",
       "      <td>67.00</td>\n",
       "      <td>51.00</td>\n",
       "      <td>1.001</td>\n",
       "      <td>2.20</td>\n",
       "      <td>3.5</td>\n",
       "      <td>1.625</td>\n",
       "      <td>bodog</td>\n",
       "    </tr>\n",
       "    <tr>\n",
       "      <th>7</th>\n",
       "      <td>Persepolis  Mes Rafsanjan</td>\n",
       "      <td>2.20</td>\n",
       "      <td>2.50</td>\n",
       "      <td>4.50</td>\n",
       "      <td>1.87</td>\n",
       "      <td>1.5</td>\n",
       "      <td>1.87</td>\n",
       "      <td>bodog</td>\n",
       "    </tr>\n",
       "    <tr>\n",
       "      <th>8</th>\n",
       "      <td>Coastal Union   Geita Gold</td>\n",
       "      <td>3.15</td>\n",
       "      <td>1.935</td>\n",
       "      <td>3.60</td>\n",
       "      <td>1.476</td>\n",
       "      <td>0.5</td>\n",
       "      <td>2.52</td>\n",
       "      <td>bodog</td>\n",
       "    </tr>\n",
       "    <tr>\n",
       "      <th>9</th>\n",
       "      <td>El Alominiom  Al Gounah</td>\n",
       "      <td>3.60</td>\n",
       "      <td>2.40</td>\n",
       "      <td>2.50</td>\n",
       "      <td>2.40</td>\n",
       "      <td>1.5</td>\n",
       "      <td>1.541</td>\n",
       "      <td>bodog</td>\n",
       "    </tr>\n",
       "    <tr>\n",
       "      <th>10</th>\n",
       "      <td>Misr El Maqasah Dayrout  .</td>\n",
       "      <td>1.667</td>\n",
       "      <td>3.75</td>\n",
       "      <td>4.50</td>\n",
       "      <td>2.28</td>\n",
       "      <td>2.5</td>\n",
       "      <td>1.588</td>\n",
       "      <td>bodog</td>\n",
       "    </tr>\n",
       "    <tr>\n",
       "      <th>11</th>\n",
       "      <td>Telephonat Beni Suef   Mallawi SC</td>\n",
       "      <td>2.30</td>\n",
       "      <td>2.62</td>\n",
       "      <td>3.50</td>\n",
       "      <td>1.926</td>\n",
       "      <td>1.5</td>\n",
       "      <td>1.820</td>\n",
       "      <td>bodog</td>\n",
       "    </tr>\n",
       "  </tbody>\n",
       "</table>\n",
       "</div>"
      ],
      "text/plain": [
       "                                             teams   home    tie   away  \\\n",
       "0     Hapoel Kfar Shelem  Beitar Tel Aviv Bat Yam   1.105   6.25  26.00   \n",
       "1               Club Almagro (R)  CA Atlanta (R)     2.34   2.42   3.70   \n",
       "2             AD Guarabira PB Serra Branca EC PB    29.00  10.50  1.029   \n",
       "3         Barracas Central (R)  Independiente (R)    3.55   2.72   2.18   \n",
       "4              Estudiantes de LP (R) Huracan (R)     2.64   2.66   2.78   \n",
       "5                        Patronato (R)  Lanus (R)    3.95   2.70   2.08   \n",
       "6                       Tensung FC   Ugyen Academy  67.00  51.00  1.001   \n",
       "7                       Persepolis  Mes Rafsanjan    2.20   2.50   4.50   \n",
       "8                       Coastal Union   Geita Gold   3.15  1.935   3.60   \n",
       "9                         El Alominiom  Al Gounah    3.60   2.40   2.50   \n",
       "10                      Misr El Maqasah Dayrout  .  1.667   3.75   4.50   \n",
       "11               Telephonat Beni Suef   Mallawi SC   2.30   2.62   3.50   \n",
       "\n",
       "     over goals  under   site  \n",
       "0    2.15   2.5  1.667  bodog  \n",
       "1    2.20   3.5  1.625  bodog  \n",
       "2   1.714   5.5   2.08  bodog  \n",
       "3   1.676   1.5   2.13  bodog  \n",
       "4   1.893   3.5  1.847  bodog  \n",
       "5   1.952   1.5   1.80  bodog  \n",
       "6    2.20   3.5  1.625  bodog  \n",
       "7    1.87   1.5   1.87  bodog  \n",
       "8   1.476   0.5   2.52  bodog  \n",
       "9    2.40   1.5  1.541  bodog  \n",
       "10   2.28   2.5  1.588  bodog  \n",
       "11  1.926   1.5  1.820  bodog  "
      ]
     },
     "execution_count": 39,
     "metadata": {},
     "output_type": "execute_result"
    }
   ],
   "source": [
    "def bodog_live():\n",
    "    df_bodog = pd.DataFrame(columns=['teams', 'home', 'tie', 'away', 'over', 'goals', 'under', 'site'])\n",
    "    for j in range(10):\n",
    "        for k in range(5):\n",
    "            try:\n",
    "                elemento = bod.find_element(By.XPATH, f'/html/body/bx-site/ng-component/div/sp-sports-ui/div/main/div/section/main/sp-path-event/div/div[2]/sp-happening-now/div/div/div/div[{j}]/sp-coupon[{k}]/sp-multi-markets/section/article').text.split('\\n')\n",
    "                if len(elemento)>10:\n",
    "                    teams = elemento[2]+' '+elemento[3]+' '+elemento[4]+' '+elemento[5]+' '+elemento[6]+' '+elemento[7]\n",
    "                    teams = ''.join([i for i in teams if not i.isdigit()]).replace('+  Apuestas', '')\n",
    "                    numbers = elemento[-5]+' '+elemento[-4]+' '+elemento[-3]+' '+elemento[-2]+' '+elemento[-1]\n",
    "                    numbers = numbers.split(' ')\n",
    "\n",
    "                    home=numbers[0]\n",
    "                    tie = numbers[1]\n",
    "                    away = numbers[2]\n",
    "\n",
    "                    goals = numbers[3]\n",
    "                    over = numbers[4].replace(\"(\", \"\").replace(\")\",\"\")\n",
    "                    under = numbers[6].replace(\"(\", \"\").replace(\")\",\"\")\n",
    "\n",
    "\n",
    "                    df_bodog.loc[len(df_bodog.index)]=[teams, home, tie, away, over, goals, under, 'bodog']\n",
    "                    #print(teams,'|', numbers,  f'|| {len(elemento)}', 'j',j,'k', k)\n",
    "\n",
    "            except:\n",
    "                pass\n",
    "    return df_bodog"
   ]
  },
  {
   "cell_type": "code",
   "execution_count": 32,
   "metadata": {},
   "outputs": [
    {
     "data": {
      "text/plain": [
       "['1.208', '5.10', '13.00', '2.5', '(1.676)', '2.5', '(2.13)']"
      ]
     },
     "execution_count": 32,
     "metadata": {},
     "output_type": "execute_result"
    }
   ],
   "source": [
    "numbers.split(' ')"
   ]
  },
  {
   "cell_type": "code",
   "execution_count": 38,
   "metadata": {},
   "outputs": [
    {
     "name": "stdout",
     "output_type": "stream",
     "text": [
      "0 2M\n",
      "1 77:18\n",
      "2 0\n",
      "3 3\n",
      "4 Tensung FC\n",
      "5 3\n",
      "6 1\n",
      "7 Ugyen Academy\n",
      "8 6\n",
      "9 + 9 Apuestas\n",
      "10 67.00\n",
      "11 51.00\n",
      "12 1.001\n",
      "13 3.5 (2.13)\n",
      "14 3.5 (1.676)\n"
     ]
    },
    {
     "data": {
      "text/plain": [
       "15"
      ]
     },
     "execution_count": 38,
     "metadata": {},
     "output_type": "execute_result"
    }
   ],
   "source": [
    "j=6\n",
    "k=1\n",
    "path = f'/html/body/bx-site/ng-component/div/sp-sports-ui/div/main/div/section/main/sp-path-event/div/div[2]/sp-happening-now/div/div/div/div[{j}]/sp-coupon[{k}]/sp-multi-markets/section/article'\n",
    "elements = bod.find_element(By.XPATH, path).text.split('\\n')\n",
    "for i, c in enumerate(elements):\n",
    "    print(i, c)\n",
    "\n",
    "len(elements)"
   ]
  },
  {
   "cell_type": "code",
   "execution_count": 11,
   "metadata": {},
   "outputs": [
    {
     "name": "stdout",
     "output_type": "stream",
     "text": [
      "0 1M\n",
      "1 23:43\n",
      "2 0\n",
      "3 0\n",
      "4 Club Almagro (R)\n",
      "5 3\n",
      "6 CA Atlanta (R)\n",
      "7 1\n",
      "8 + 38 Apuestas\n",
      "9 2.48\n",
      "10 2.74\n",
      "11 2.95\n",
      "12 1.5 (1.69)\n",
      "13 1.5 (2.10)\n"
     ]
    },
    {
     "data": {
      "text/plain": [
       "14"
      ]
     },
     "execution_count": 11,
     "metadata": {},
     "output_type": "execute_result"
    }
   ],
   "source": [
    "j=2\n",
    "k=1\n",
    "path = f'/html/body/bx-site/ng-component/div/sp-sports-ui/div/main/div/section/main/sp-path-event/div/div[2]/sp-happening-now/div/div/div/div[{j}]/sp-coupon[{k}]/sp-multi-markets/section/article'\n",
    "elements = bod.find_element(By.XPATH, path).text.split('\\n')\n",
    "for i, c in enumerate(elements):\n",
    "    print(i, c)\n",
    "\n",
    "len(elements)"
   ]
  }
 ],
 "metadata": {
  "kernelspec": {
   "display_name": "Python 3.9.1 64-bit",
   "language": "python",
   "name": "python3"
  },
  "language_info": {
   "codemirror_mode": {
    "name": "ipython",
    "version": 3
   },
   "file_extension": ".py",
   "mimetype": "text/x-python",
   "name": "python",
   "nbconvert_exporter": "python",
   "pygments_lexer": "ipython3",
   "version": "3.9.1"
  },
  "orig_nbformat": 4,
  "vscode": {
   "interpreter": {
    "hash": "0d4113225d02981dc03cb054cbae758cd0f823be43aa5acf43d718373665f60b"
   }
  }
 },
 "nbformat": 4,
 "nbformat_minor": 2
}
