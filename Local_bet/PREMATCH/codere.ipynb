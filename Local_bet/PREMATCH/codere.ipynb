{
 "cells": [
  {
   "cell_type": "code",
   "execution_count": null,
   "metadata": {},
   "outputs": [],
   "source": [
    "''' LIBRARIES '''\n",
    "from selenium import webdriver\n",
    "from selenium.webdriver.chrome.options import Options\n",
    "from selenium.webdriver.support.ui import Select\n",
    "from selenium.webdriver.common.by import By\n",
    "from selenium.webdriver.support.ui import WebDriverWait\n",
    "from selenium.webdriver.support import expected_conditions as EC\n",
    "from selenium.webdriver import ActionChains\n",
    "\n",
    "import re\n",
    "import time\n",
    "from IPython.display import clear_output\n",
    "import multiprocessing\n",
    "import threading\n",
    "from tqdm import tqdm\n",
    "import warnings\n",
    "warnings.filterwarnings(\"ignore\")\n",
    "\n",
    "from fuzzywuzzy import process, fuzz\n",
    "from sympy import symbols, Eq, solve\n",
    "import pandas as pd\n",
    "import numpy as np"
   ]
  },
  {
   "cell_type": "code",
   "execution_count": null,
   "metadata": {},
   "outputs": [],
   "source": [
    "''' CODERE navigator '''\n",
    "\n",
    "\n",
    "url_codere = 'https://m.caba.codere.bet.ar/deportes/#/TodayPage'\n",
    "\n",
    "options = Options()\n",
    "\n",
    "cod = webdriver.Chrome(r'C:\\Users\\KNL\\Desktop\\Ale\\Upwork\\Scraping_bets\\chromedriver.exe', options=options)\n",
    "cod.get(url_codere)\n",
    "cod.maximize_window()\n",
    "\n",
    "cookie = WebDriverWait(cod, 10).until(EC.presence_of_element_located((By.XPATH, '/html/body/ion-app/ion-alert/div/div[3]/button/span')))\n",
    "cookie.click()\n",
    "try:\n",
    "    futbol = WebDriverWait(cod, 10).until(EC.presence_of_element_located((By.XPATH, '//*[@id=\"nav\"]/page-calendar/ion-grid/ion-row/ion-col/ion-content/div[2]/div[1]/sb-filter/div/div/div[2]/span')))\n",
    "    futbol.click()\n",
    "    time.sleep(2)\n",
    "except:\n",
    "    print(\"Didn't click in futbol\")\n",
    "    pass\n",
    "actions = ActionChains(cod)\n",
    "\n"
   ]
  },
  {
   "cell_type": "markdown",
   "metadata": {},
   "source": [
    "Cambiar de día"
   ]
  },
  {
   "cell_type": "code",
   "execution_count": null,
   "metadata": {},
   "outputs": [],
   "source": [
    "dias = cod.find_elements(By.CSS_SELECTOR, 'div.sb-calendar-navbar')\n",
    "dias[2].click()\n"
   ]
  },
  {
   "cell_type": "markdown",
   "metadata": {},
   "source": [
    "Abrir los dropdowns de los partidos"
   ]
  },
  {
   "cell_type": "code",
   "execution_count": null,
   "metadata": {},
   "outputs": [],
   "source": [
    "def codere_prematch(days=4):\n",
    "    dias = cod.find_elements(By.CSS_SELECTOR, 'div.sb-calendar-navbar')\n",
    "    df_cod = pd.DataFrame(columns=['teams', '1_code', 'X_code', '2_code', 'under_cod', 'goals_cod', 'over_cod'])\n",
    "    for i in range(days+1):\n",
    "\n",
    "        dias[i].click()\n",
    "        time.sleep(3)\n",
    "        dropdown = cod.find_elements(By.CSS_SELECTOR, 'sb-dropdown.is-collapsable')[:15]\n",
    "        for drop in dropdown:\n",
    "            try:\n",
    "                actions.move_to_element(drop).perform()\n",
    "                drop.click()\n",
    "                time.sleep(1)        \n",
    "            except:\n",
    "                pass\n",
    "        partidos = cod.find_elements(By.CSS_SELECTOR, 'sb-grid-item.sb-grid-content--teams')\n",
    "        try:\n",
    "            for elemento in partidos:\n",
    "                partido = elemento.text.split('\\n')\n",
    "                teams = partido[0]+' '+partido[1]\n",
    "\n",
    "                home = partido[4]\n",
    "                tie  = partido[6]\n",
    "                away = partido[8]\n",
    "                lenn = len(partido)\n",
    "                under, goals, over = 1, 1, 1\n",
    "                if len(partido)==14:\n",
    "                    under = partido[12]\n",
    "                    goals = ''.join([n for n in partido[9] if n.isdigit()])\n",
    "                    over  = partido[10]\n",
    "\n",
    "                df_cod.loc[len(df_cod.index)] = [teams, home, tie, away, under, goals, over]\n",
    "        except:\n",
    "            pass\n",
    "        df_cod.to_csv('CSV\\df_cod_pre.csv')\n",
    "        cod.refresh()\n",
    "    return df_cod"
   ]
  },
  {
   "cell_type": "code",
   "execution_count": null,
   "metadata": {},
   "outputs": [],
   "source": [
    "codere_prematch()"
   ]
  },
  {
   "cell_type": "markdown",
   "metadata": {},
   "source": [
    "Buscar los partidos y su data"
   ]
  },
  {
   "cell_type": "code",
   "execution_count": null,
   "metadata": {},
   "outputs": [],
   "source": [
    "partidos = cod.find_elements(By.CSS_SELECTOR, 'sb-grid-item.sb-grid-content--teams')\n",
    "df_cod = pd.DataFrame(columns=['teams', 'lenn'])\n",
    "for partido in partidos:\n",
    "    partido = partido.text.split('\\n')\n",
    "    teams = partido[0]+' '+partido[1]\n",
    "    lenn = len(partido)\n",
    "\n",
    "    df_cod.loc[len(df_cod.index)] = [teams, lenn]\n",
    "df_cod    "
   ]
  },
  {
   "cell_type": "code",
   "execution_count": null,
   "metadata": {},
   "outputs": [],
   "source": [
    "elemento  = cod.find_element(By.CSS_SELECTOR, 'sb-grid-item.sb-grid-content--teams').text.split('\\n')\n",
    "for i, c in enumerate(elemento):\n",
    "    print(i, c)"
   ]
  }
 ],
 "metadata": {
  "kernelspec": {
   "display_name": "Python 3.9.13 64-bit (microsoft store)",
   "language": "python",
   "name": "python3"
  },
  "language_info": {
   "codemirror_mode": {
    "name": "ipython",
    "version": 3
   },
   "file_extension": ".py",
   "mimetype": "text/x-python",
   "name": "python",
   "nbconvert_exporter": "python",
   "pygments_lexer": "ipython3",
   "version": "3.9.13"
  },
  "orig_nbformat": 4,
  "vscode": {
   "interpreter": {
    "hash": "006c2b932914ff8e95f30e749041e4b399d36857f00ee48d79cb79341a100acd"
   }
  }
 },
 "nbformat": 4,
 "nbformat_minor": 2
}
