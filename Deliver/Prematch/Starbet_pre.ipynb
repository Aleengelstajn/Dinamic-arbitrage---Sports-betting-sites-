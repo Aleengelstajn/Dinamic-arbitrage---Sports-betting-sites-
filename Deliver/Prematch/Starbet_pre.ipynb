{
 "cells": [
  {
   "cell_type": "code",
   "execution_count": 8,
   "metadata": {},
   "outputs": [],
   "source": [
    "''' LIBRARIES '''\n",
    "from selenium import webdriver\n",
    "from selenium.webdriver.chrome.options import Options\n",
    "from selenium.webdriver.support.ui import Select\n",
    "from selenium.webdriver.common.by import By\n",
    "from selenium.webdriver.support.ui import WebDriverWait\n",
    "from selenium.webdriver.support import expected_conditions as EC\n",
    "\n",
    "import re\n",
    "import time\n",
    "from IPython.display import clear_output\n",
    "\n",
    "from fuzzywuzzy import process, fuzz\n",
    "from sympy import symbols, Eq, solve\n",
    "import pandas as pd\n",
    "import numpy as np"
   ]
  },
  {
   "cell_type": "markdown",
   "metadata": {},
   "source": [
    "# StarBet "
   ]
  },
  {
   "cell_type": "code",
   "execution_count": 9,
   "metadata": {},
   "outputs": [
    {
     "name": "stderr",
     "output_type": "stream",
     "text": [
      "C:\\Users\\KNL\\AppData\\Local\\Temp\\ipykernel_26864\\92520508.py:7: DeprecationWarning: executable_path has been deprecated, please pass in a Service object\n",
      "  star = webdriver.Chrome(r'C:\\Users\\KNL\\Desktop\\Ale\\Upwork\\Scraping_bets\\chromedriver.exe', options=options)\n"
     ]
    }
   ],
   "source": [
    "'''Navigator Options               StarBETa LIVE'''\n",
    "url_star = 'https://www.starbet.rs/Bet'\n",
    "options = Options()\n",
    "options.headless = False #for not opening the navigator\n",
    "\n",
    "\n",
    "star = webdriver.Chrome(r'C:\\Users\\KNL\\Desktop\\Ale\\Upwork\\Scraping_bets\\chromedriver.exe', options=options)\n",
    "star.get(url_star)\n",
    "star.maximize_window()\n",
    "cancel = WebDriverWait(star, 4).until(EC.presence_of_element_located((By.XPATH, '//*[@id=\"zatvarac\"]')))\n",
    "cancel.click()\n",
    "checkmark_futbal = WebDriverWait(star, 2).until(EC.presence_of_element_located((By.XPATH, '//*[@id=\"tmpSportoviLigi\"]/div[2]/div[1]/h4/label/span')))\n",
    "checkmark_futbal.click()\n",
    "day = WebDriverWait(star, 3).until(EC.presence_of_element_located((By.XPATH, '//*[@id=\"tb459\"]/tbody/tr[1]/td[1]/span')))\n",
    "day.click()\n",
    "day.click()\n"
   ]
  },
  {
   "cell_type": "code",
   "execution_count": 10,
   "metadata": {},
   "outputs": [],
   "source": [
    "def starbet_pre():\n",
    "    df_star = pd.DataFrame(columns=['teams', '1_star', 'X_star', '2_star', 'under_star', 'goals_star', 'over_star'])\n",
    "    for j in range(80):\n",
    "        for k in range(1,40):\n",
    "            try:\n",
    "                elemento = star.find_element(By.XPATH, f'/html/body/form/div[4]/div/div/div/div[2]/div[6]/table[{j}]/tbody/tr[{k}]').text.split('\\n')\n",
    "                teams = elemento[1].replace(':', '')\n",
    "\n",
    "                home = elemento[2][:14].split(' ')[0]\n",
    "                tie  = elemento[2][:14].split(' ')[1]\n",
    "                away = elemento[2][:14].split(' ')[2]\n",
    "\n",
    "                goals = 2.5\n",
    "                under = elemento[2][35:44].split(' ')[0]\n",
    "                over  = elemento[2][35:44].split(' ')[1]\n",
    "                df_star.loc[len(df_star.index)] = [teams, home, tie, away, under, goals, over]\n",
    "            except:\n",
    "                pass\n",
    "        clear_output()\n",
    "        porcentaje = (j+1)*10/8\n",
    "        print(f'{porcentaje}%')\n",
    "    df_star.to_csv('CSV\\df_star.csv')\n",
    "    return print('df_star.csv updated')\n"
   ]
  },
  {
   "cell_type": "code",
   "execution_count": 14,
   "metadata": {},
   "outputs": [
    {
     "name": "stdout",
     "output_type": "stream",
     "text": [
      "100.0%\n",
      "df_star.csv updated\n"
     ]
    }
   ],
   "source": [
    "starbet_pre()"
   ]
  },
  {
   "cell_type": "code",
   "execution_count": null,
   "metadata": {},
   "outputs": [],
   "source": []
  }
 ],
 "metadata": {
  "kernelspec": {
   "display_name": "Python 3.9.1 64-bit",
   "language": "python",
   "name": "python3"
  },
  "language_info": {
   "codemirror_mode": {
    "name": "ipython",
    "version": 3
   },
   "file_extension": ".py",
   "mimetype": "text/x-python",
   "name": "python",
   "nbconvert_exporter": "python",
   "pygments_lexer": "ipython3",
   "version": "3.9.1"
  },
  "orig_nbformat": 4,
  "vscode": {
   "interpreter": {
    "hash": "0d4113225d02981dc03cb054cbae758cd0f823be43aa5acf43d718373665f60b"
   }
  }
 },
 "nbformat": 4,
 "nbformat_minor": 2
}
