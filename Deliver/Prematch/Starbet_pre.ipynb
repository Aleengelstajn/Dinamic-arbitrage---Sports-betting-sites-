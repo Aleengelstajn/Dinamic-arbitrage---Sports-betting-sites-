{
 "cells": [
  {
   "cell_type": "code",
   "execution_count": 1,
   "metadata": {},
   "outputs": [],
   "source": [
    "''' LIBRARIES '''\n",
    "from selenium import webdriver\n",
    "from selenium.webdriver.chrome.options import Options\n",
    "from selenium.webdriver.support.ui import Select\n",
    "from selenium.webdriver.common.by import By\n",
    "from selenium.webdriver.support.ui import WebDriverWait\n",
    "from selenium.webdriver.support import expected_conditions as EC\n",
    "\n",
    "import re\n",
    "import time\n",
    "from IPython.display import clear_output\n",
    "\n",
    "from fuzzywuzzy import process, fuzz\n",
    "from sympy import symbols, Eq, solve\n",
    "import pandas as pd\n",
    "import numpy as np"
   ]
  },
  {
   "cell_type": "markdown",
   "metadata": {},
   "source": [
    "# StarBet "
   ]
  },
  {
   "cell_type": "code",
   "execution_count": 9,
   "metadata": {},
   "outputs": [
    {
     "name": "stderr",
     "output_type": "stream",
     "text": [
      "C:\\Users\\KNL\\AppData\\Local\\Temp\\ipykernel_25648\\293896641.py:7: DeprecationWarning: executable_path has been deprecated, please pass in a Service object\n",
      "  star = webdriver.Chrome(r'C:\\Users\\KNL\\Desktop\\Ale\\Upwork\\Scraping_bets\\chromedriver.exe', options=options)\n"
     ]
    }
   ],
   "source": [
    "'''Navigator Options               StarBETa LIVE'''\n",
    "url_star = 'https://www.starbet.rs/Bet'\n",
    "options = Options()\n",
    "options.headless = False #for not opening the navigator\n",
    "\n",
    "\n",
    "star = webdriver.Chrome(r'C:\\Users\\KNL\\Desktop\\Ale\\Upwork\\Scraping_bets\\chromedriver.exe', options=options)\n",
    "star.get(url_star)\n",
    "star.maximize_window()\n",
    "cancel = WebDriverWait(star, 4).until(EC.presence_of_element_located((By.XPATH, '//*[@id=\"zatvarac\"]')))\n",
    "cancel.click()\n",
    "checkmark_futbal = WebDriverWait(star, 2).until(EC.presence_of_element_located((By.XPATH, '//*[@id=\"tmpSportoviLigi\"]/div[2]/div[1]/h4/label/span')))\n",
    "checkmark_futbal.click()\n",
    "day = WebDriverWait(star, 3).until(EC.presence_of_element_located((By.XPATH, '//*[@id=\"tb459\"]/tbody/tr[1]/td[1]/span')))\n",
    "day.click()\n",
    "day.click()"
   ]
  },
  {
   "cell_type": "code",
   "execution_count": 6,
   "metadata": {},
   "outputs": [],
   "source": [
    "checkmark_futbal = WebDriverWait(star, 2).until(EC.presence_of_element_located((By.XPATH, '//*[@id=\"tmpSportoviLigi\"]/div[2]/div[1]/h4/label/span')))\n",
    "checkmark_futbal.click()"
   ]
  }
 ],
 "metadata": {
  "kernelspec": {
   "display_name": "Python 3.9.1 64-bit",
   "language": "python",
   "name": "python3"
  },
  "language_info": {
   "codemirror_mode": {
    "name": "ipython",
    "version": 3
   },
   "file_extension": ".py",
   "mimetype": "text/x-python",
   "name": "python",
   "nbconvert_exporter": "python",
   "pygments_lexer": "ipython3",
   "version": "3.9.1"
  },
  "orig_nbformat": 4,
  "vscode": {
   "interpreter": {
    "hash": "0d4113225d02981dc03cb054cbae758cd0f823be43aa5acf43d718373665f60b"
   }
  }
 },
 "nbformat": 4,
 "nbformat_minor": 2
}
