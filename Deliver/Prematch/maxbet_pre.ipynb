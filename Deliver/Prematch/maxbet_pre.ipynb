{
 "cells": [
  {
   "cell_type": "code",
   "execution_count": null,
   "metadata": {},
   "outputs": [],
   "source": [
    "def maxbet_pre():\n",
    "    df_max = pd.DataFrame(columns=['teams', '1_max', 'X_max', '2_max', 'under_max', 'goals_max', 'over_max'])\n",
    "    for j in range(60):\n",
    "        for k in range(10):\n",
    "            try:\n",
    "                elemento = maxb.find_element(By.XPATH, f'/html/body/div[1]/div[5]/div/div[2]/div[2]/div/div/div/div[2]/div[{j}]/league-with-matches/div/div[{k}]').text.split('\\n')\n",
    "                teams = elemento[2].replace('-','')\n",
    "                #print(teams, f'   ||   len elemento: {len(elemento)}, j: {j}, k: {k} ')\n",
    "\n",
    "                if len(elemento)==11:\n",
    "                    home = elemento[3]\n",
    "                    tie = elemento[4]\n",
    "                    away = elemento[5]\n",
    "                    under = elemento[6]\n",
    "                    goals = 2.5\n",
    "                    over = elemento[7]\n",
    "\n",
    "                if len(elemento)==12:\n",
    "                    home = elemento[4]\n",
    "                    tie = elemento[5]\n",
    "                    away = elemento[6]\n",
    "                    under = elemento[7]\n",
    "                    goals = 2.5\n",
    "                    over = elemento[8]\n",
    "\n",
    "                df_max.loc[len(df_max.index)] = [teams, home, tie, away, under, goals, over]\n",
    "\n",
    "            except:\n",
    "                pass\n",
    "        porcentaje=round((j+1)*10/6, 3)\n",
    "        #clear_output()\n",
    "        #print(f'maxbet {porcentaje}%')\n",
    "    df_max.to_csv('CSV\\df_max.csv')\n",
    "    return df_max"
   ]
  }
 ],
 "metadata": {
  "language_info": {
   "name": "python"
  },
  "orig_nbformat": 4
 },
 "nbformat": 4,
 "nbformat_minor": 2
}
