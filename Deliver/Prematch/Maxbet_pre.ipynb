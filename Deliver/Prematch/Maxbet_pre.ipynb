{
 "cells": [
  {
   "cell_type": "code",
   "execution_count": 4,
   "metadata": {},
   "outputs": [],
   "source": [
    "''' LIBRARIES '''\n",
    "from selenium import webdriver\n",
    "from selenium.webdriver.chrome.options import Options\n",
    "from selenium.webdriver.support.ui import Select\n",
    "from selenium.webdriver.common.by import By\n",
    "from selenium.webdriver.support.ui import WebDriverWait\n",
    "from selenium.webdriver.support import expected_conditions as EC\n",
    "from selenium.webdriver import ActionChains\n",
    "\n",
    "import re\n",
    "import time\n",
    "from IPython.display import clear_output\n",
    "\n",
    "from fuzzywuzzy import process, fuzz\n",
    "from sympy import symbols, Eq, solve\n",
    "import pandas as pd\n",
    "import numpy as np"
   ]
  },
  {
   "cell_type": "code",
   "execution_count": 25,
   "metadata": {},
   "outputs": [
    {
     "name": "stderr",
     "output_type": "stream",
     "text": [
      "C:\\Users\\KNL\\AppData\\Local\\Temp\\ipykernel_4660\\2573470216.py:7: DeprecationWarning: executable_path has been deprecated, please pass in a Service object\n",
      "  maxb = webdriver.Chrome(r'C:\\Users\\KNL\\Desktop\\Ale\\Upwork\\Scraping_bets\\chromedriver.exe', options=options)\n"
     ]
    }
   ],
   "source": [
    "'''Navigator Options               MAXBET LIVE'''\n",
    "url_max = 'https://www.maxbet.rs/ibet-web-client/#/home#top'\n",
    "options = Options()\n",
    "options.headless = False #for not opening the navigator\n",
    "\n",
    "\n",
    "maxb = webdriver.Chrome(r'C:\\Users\\KNL\\Desktop\\Ale\\Upwork\\Scraping_bets\\chromedriver.exe', options=options)\n",
    "maxb.get(url_max)\n",
    "maxb.maximize_window()\n",
    "\n",
    "slider = maxb.find_element(By.XPATH, '//span[contains(@class, \"slider-handle\")]')\n",
    "ActionChains(maxb).drag_and_drop_by_offset(slider, -80,0).perform()\n",
    "fudbal  = maxb.find_element(By.XPATH, '//*[@id=\"topView\"]/div/div[2]/div[1]/div[2]/div[4]/div/div[1]/div[1]/div[2]/div[1]')\n",
    "fudbal.click()\n",
    "time.sleep(1)\n",
    "election  = maxb.find_element(By.XPATH, '//*[@id=\"topView\"]/div/div[2]/div[1]/div[2]/div[4]/div/div[1]/div[2]/div[1]')\n",
    "election.click()\n"
   ]
  },
  {
   "cell_type": "code",
   "execution_count": 39,
   "metadata": {},
   "outputs": [],
   "source": [
    "def maxbet_pre():\n",
    "    df_max = pd.DataFrame(columns=['teams', '1_max', 'X_max', '2_max', 'under_max', 'goals_max', 'over_max'])\n",
    "    for j in range(60):\n",
    "        for k in range(10):\n",
    "            try:\n",
    "                elemento = maxb.find_element(By.XPATH, f'/html/body/div[1]/div[5]/div/div[2]/div[2]/div/div/div/div[2]/div[{j}]/league-with-matches/div/div[{k}]').text.split('\\n')\n",
    "                teams = elemento[2].replace('-','')\n",
    "\n",
    "                home = elemento[3]\n",
    "                tie = elemento[4]\n",
    "                away = elemento[5]\n",
    "\n",
    "                under = elemento[6]\n",
    "                goals = 2.5\n",
    "                over = elemento[7]\n",
    "                df_max.loc[len(df_max.index)] = [teams, home, tie, away, under, goals, over]\n",
    "\n",
    "            except:\n",
    "                pass\n",
    "        porcentaje=round((j+1)*10/6, 3)\n",
    "        clear_output()\n",
    "        print(f'{porcentaje}%')\n",
    "    df_max.to_csv('CSV\\df_max.csv')\n",
    "    return print('df_max.csv updated')"
   ]
  },
  {
   "cell_type": "code",
   "execution_count": 43,
   "metadata": {},
   "outputs": [
    {
     "name": "stdout",
     "output_type": "stream",
     "text": [
      "100.0%\n",
      "df_max.csv updated\n"
     ]
    }
   ],
   "source": [
    "maxbet_pre()"
   ]
  }
 ],
 "metadata": {
  "kernelspec": {
   "display_name": "Python 3.10.6 64-bit",
   "language": "python",
   "name": "python3"
  },
  "language_info": {
   "codemirror_mode": {
    "name": "ipython",
    "version": 3
   },
   "file_extension": ".py",
   "mimetype": "text/x-python",
   "name": "python",
   "nbconvert_exporter": "python",
   "pygments_lexer": "ipython3",
   "version": "3.10.6"
  },
  "orig_nbformat": 4,
  "vscode": {
   "interpreter": {
    "hash": "369f2c481f4da34e4445cda3fffd2e751bd1c4d706f27375911949ba6bb62e1c"
   }
  }
 },
 "nbformat": 4,
 "nbformat_minor": 2
}
