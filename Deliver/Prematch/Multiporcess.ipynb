{
 "cells": [
  {
   "cell_type": "code",
   "execution_count": 1,
   "metadata": {},
   "outputs": [
    {
     "name": "stderr",
     "output_type": "stream",
     "text": [
      "c:\\Python310\\lib\\site-packages\\fuzzywuzzy\\fuzz.py:11: UserWarning: Using slow pure-python SequenceMatcher. Install python-Levenshtein to remove this warning\n",
      "  warnings.warn('Using slow pure-python SequenceMatcher. Install python-Levenshtein to remove this warning')\n"
     ]
    }
   ],
   "source": [
    "''' LIBRARIES '''\n",
    "from selenium import webdriver\n",
    "from selenium.webdriver.chrome.options import Options\n",
    "from selenium.webdriver.support.ui import Select\n",
    "from selenium.webdriver.common.by import By\n",
    "from selenium.webdriver.support.ui import WebDriverWait\n",
    "from selenium.webdriver.support import expected_conditions as EC\n",
    "from selenium.webdriver import ActionChains\n",
    "\n",
    "import re\n",
    "import time\n",
    "from IPython.display import clear_output\n",
    "import multiprocessing\n",
    "import threading\n",
    "from tqdm import tqdm\n",
    "\n",
    "from fuzzywuzzy import process, fuzz\n",
    "from sympy import symbols, Eq, solve\n",
    "import pandas as pd\n",
    "import numpy as np"
   ]
  },
  {
   "cell_type": "code",
   "execution_count": 2,
   "metadata": {},
   "outputs": [],
   "source": [
    "from tqdm import tqdm"
   ]
  },
  {
   "cell_type": "code",
   "execution_count": 3,
   "metadata": {},
   "outputs": [
    {
     "name": "stderr",
     "output_type": "stream",
     "text": [
      "100%|██████████| 700/700 [00:00<?, ?it/s]\n"
     ]
    }
   ],
   "source": [
    "lista = []\n",
    "for i in tqdm(range(700)):\n",
    "    lista.append(i)"
   ]
  },
  {
   "cell_type": "markdown",
   "metadata": {},
   "source": [
    "## Navigators"
   ]
  },
  {
   "cell_type": "code",
   "execution_count": 2,
   "metadata": {},
   "outputs": [
    {
     "name": "stderr",
     "output_type": "stream",
     "text": [
      "C:\\Users\\KNL\\AppData\\Local\\Temp\\ipykernel_4584\\345610876.py:7: DeprecationWarning: executable_path has been deprecated, please pass in a Service object\n",
      "  adm = webdriver.Chrome(r'C:\\Users\\KNL\\Desktop\\Ale\\Upwork\\Scraping_bets\\chromedriver.exe', options=options)\n"
     ]
    }
   ],
   "source": [
    "'''Navigator ADMIRAL PREMATCH'''\n",
    "url_adm = 'https://admiralbet.rs/sport-prematch?sport=Fudbal'\n",
    "options = Options()\n",
    "options.headless = False #for not opening the navigator\n",
    "\n",
    "\n",
    "adm = webdriver.Chrome(r'C:\\Users\\KNL\\Desktop\\Ale\\Upwork\\Scraping_bets\\chromedriver.exe', options=options)\n",
    "adm.get(url_adm)\n",
    "adm.maximize_window()\n",
    "cookie = adm.find_element(By.XPATH, '//*[@id=\"cookieContainer\"]/div[3]/a/span')\n",
    "cookie.click()\n",
    "\n",
    "adm.switch_to.frame(adm.find_element(By.XPATH, '//*[@id=\"sportIframe\"]'))\n",
    "\n",
    "day = adm.find_element(By.XPATH, '//*[@id=\"centerContent\"]/app-filter/section/div/div/div[5]')\n",
    "day.click()"
   ]
  },
  {
   "cell_type": "code",
   "execution_count": 3,
   "metadata": {},
   "outputs": [
    {
     "name": "stderr",
     "output_type": "stream",
     "text": [
      "C:\\Users\\KNL\\AppData\\Local\\Temp\\ipykernel_4584\\3256336066.py:9: DeprecationWarning: executable_path has been deprecated, please pass in a Service object\n",
      "  soc = webdriver.Chrome(r'C:\\Users\\KNL\\Desktop\\Ale\\Upwork\\Scraping_bets\\chromedriver.exe', options=options)\n"
     ]
    }
   ],
   "source": [
    "''' SOCCERBET NAVIGATOR '''\n",
    "url_soc = 'https://soccerbet.rs/#kladjenje'\n",
    "\n",
    "\n",
    "#changing chromedriver default options\n",
    "options = Options()\n",
    "options.headless = False #for not opening the navigator\n",
    "options.add_argument('window-size=1920x1080') #Headless = True\n",
    "soc = webdriver.Chrome(r'C:\\Users\\KNL\\Desktop\\Ale\\Upwork\\Scraping_bets\\chromedriver.exe', options=options)\n",
    "soc.get(url_soc)\n",
    "soc.maximize_window()\n",
    "cancel = soc.find_element(By.XPATH, '//*[@id=\"promotionPopupModal\"]/div/div/div/div/input')\n",
    "cancel.click()\n",
    "day = WebDriverWait(soc, 4).until(EC.presence_of_element_located((By.XPATH, '//*[@id=\"home\"]/div[1]/div[1]/ul/li[3]/a/span[1]')))\n",
    "day.click()"
   ]
  },
  {
   "cell_type": "code",
   "execution_count": 4,
   "metadata": {},
   "outputs": [
    {
     "name": "stderr",
     "output_type": "stream",
     "text": [
      "C:\\Users\\KNL\\AppData\\Local\\Temp\\ipykernel_4584\\92520508.py:7: DeprecationWarning: executable_path has been deprecated, please pass in a Service object\n",
      "  star = webdriver.Chrome(r'C:\\Users\\KNL\\Desktop\\Ale\\Upwork\\Scraping_bets\\chromedriver.exe', options=options)\n"
     ]
    }
   ],
   "source": [
    "'''Navigator Options               StarBETa LIVE'''\n",
    "url_star = 'https://www.starbet.rs/Bet'\n",
    "options = Options()\n",
    "options.headless = False #for not opening the navigator\n",
    "\n",
    "\n",
    "star = webdriver.Chrome(r'C:\\Users\\KNL\\Desktop\\Ale\\Upwork\\Scraping_bets\\chromedriver.exe', options=options)\n",
    "star.get(url_star)\n",
    "star.maximize_window()\n",
    "cancel = WebDriverWait(star, 4).until(EC.presence_of_element_located((By.XPATH, '//*[@id=\"zatvarac\"]')))\n",
    "cancel.click()\n",
    "checkmark_futbal = WebDriverWait(star, 2).until(EC.presence_of_element_located((By.XPATH, '//*[@id=\"tmpSportoviLigi\"]/div[2]/div[1]/h4/label/span')))\n",
    "checkmark_futbal.click()\n",
    "day = WebDriverWait(star, 3).until(EC.presence_of_element_located((By.XPATH, '//*[@id=\"tb459\"]/tbody/tr[1]/td[1]/span')))\n",
    "day.click()\n",
    "day.click()\n"
   ]
  },
  {
   "cell_type": "code",
   "execution_count": 5,
   "metadata": {},
   "outputs": [
    {
     "name": "stderr",
     "output_type": "stream",
     "text": [
      "C:\\Users\\KNL\\AppData\\Local\\Temp\\ipykernel_4584\\462740259.py:7: DeprecationWarning: executable_path has been deprecated, please pass in a Service object\n",
      "  maxb = webdriver.Chrome(r'C:\\Users\\KNL\\Desktop\\Ale\\Upwork\\Scraping_bets\\chromedriver.exe', options=options)\n"
     ]
    }
   ],
   "source": [
    "'''Navigator MAXBET '''\n",
    "url_max = 'https://www.maxbet.rs/ibet-web-client/#/home#top'\n",
    "options = Options()\n",
    "options.headless = False #for not opening the navigator\n",
    "\n",
    "\n",
    "maxb = webdriver.Chrome(r'C:\\Users\\KNL\\Desktop\\Ale\\Upwork\\Scraping_bets\\chromedriver.exe', options=options)\n",
    "maxb.get(url_max)\n",
    "maxb.maximize_window()\n",
    "slider = maxb.find_element(By.XPATH, '//span[contains(@class, \"slider-handle\")]')\n",
    "ActionChains(maxb).drag_and_drop_by_offset(slider, -80,0).perform()\n",
    "#fudbal  = maxb.find_element(By.XPATH, '//*[@id=\"topView\"]/div/div[2]/div[1]/div[2]/div[4]/div/div[1]/div[1]/div[2]/div[1]')\n",
    "time.sleep(2)\n",
    "fudbal = WebDriverWait(maxb, 4).until(EC.presence_of_element_located((By.XPATH, '//*[@id=\"topView\"]/div/div[2]/div[1]/div[2]/div[4]/div/div[1]/div[1]/div[2]/div[1]')))\n",
    "#fudbal.click()\n",
    "fudbal.click()\n",
    "time.sleep(1)\n",
    "\n",
    "election = WebDriverWait(maxb, 4).until(EC.presence_of_element_located((By.XPATH, '//*[@id=\"topView\"]/div/div[2]/div[1]/div[2]/div[4]/div/div[1]/div[2]/div[1]')))\n",
    "#election  = maxb.find_element(By.XPATH, '//*[@id=\"topView\"]/div/div[2]/div[1]/div[2]/div[4]/div/div[1]/div[2]/div[1]')\n",
    "election.click()"
   ]
  },
  {
   "cell_type": "markdown",
   "metadata": {},
   "source": [
    "## Functions"
   ]
  },
  {
   "cell_type": "code",
   "execution_count": 41,
   "metadata": {},
   "outputs": [],
   "source": [
    "def starbet_pre():\n",
    "    df_star = pd.DataFrame(columns=['teams', '1_star', 'X_star', '2_star', 'under_star', 'goals_star', 'over_star'])\n",
    "    for j in range(80):\n",
    "        for k in range(1,40):\n",
    "            try:\n",
    "                elemento = star.find_element(By.XPATH, f'/html/body/form/div[4]/div/div/div/div[2]/div[6]/table[{j}]/tbody/tr[{k}]').text.split('\\n')\n",
    "                teams = elemento[1].replace(':', '')\n",
    "\n",
    "                home = elemento[2][:14].split(' ')[0]\n",
    "                tie  = elemento[2][:14].split(' ')[1]\n",
    "                away = elemento[2][:14].split(' ')[2]\n",
    "\n",
    "                goals = 2.5\n",
    "                under = elemento[2][35:44].split(' ')[0]\n",
    "                over  = elemento[2][35:44].split(' ')[1]\n",
    "                df_star.loc[len(df_star.index)] = [teams, home, tie, away, under, goals, over]\n",
    "            except:\n",
    "                pass\n",
    "        #clear_output()\n",
    "       # porcentaje = (j+1)*10/8\n",
    "       # print(f'starbet {porcentaje}%')\n",
    "    df_star.to_csv('CSV\\df_star.csv')\n",
    "    #return print('df_star.csv updated')"
   ]
  },
  {
   "cell_type": "code",
   "execution_count": 42,
   "metadata": {},
   "outputs": [],
   "source": [
    "def soccer_pre(pages=6):    \n",
    "    df_soc = pd.DataFrame(columns=['teams', '1_soc', 'X_soc', '2_soc', 'under_soc', 'goals_soc', 'over_soc'])\n",
    "\n",
    "    for j in range(pages):\n",
    "\n",
    "        nex = WebDriverWait(soc, 3).until(EC.presence_of_element_located((By.XPATH, '//span[contains(@class, \"triangle-right\")]')))\n",
    "        for k in range(40):\n",
    "            try:\n",
    "                elemento = soc.find_element(By.XPATH, f'//*[@id=\"result-tables\"]/div[2]/div[2]/div/table/tbody/tr[{k}]').text.split('\\n')\n",
    "                teams = elemento[1][4:]\n",
    "                \n",
    "                home = elemento[2]\n",
    "                tie = elemento[3]\n",
    "                away = elemento[4]\n",
    "\n",
    "                under = elemento[5]\n",
    "                goals = 2.5\n",
    "                over = elemento[6]\n",
    "            \n",
    "                df_soc.loc[len(df_soc.index)] = [teams, home, tie, away, under, goals, over]\n",
    "            except:\n",
    "                pass\n",
    "        nex.click()\n",
    "    time.sleep(2)\n",
    "    first = WebDriverWait(soc, 3).until(EC.presence_of_element_located((By.XPATH, '//span[contains(@class, \"fast-backward\")]')))\n",
    "    first.click()\n",
    "    first.click()\n",
    "    #clear_output()\n",
    "    #print('soccer_pre done')\n",
    "    df_soc.to_csv('CSV\\df_soc.csv')\n",
    "    return df_soc"
   ]
  },
  {
   "cell_type": "code",
   "execution_count": 43,
   "metadata": {},
   "outputs": [],
   "source": [
    "def admiral_pre(pages=7):\n",
    "    df_adm = pd.DataFrame(columns=['teams', '1_adm', 'X_adm', '2_adm', 'under_adm', 'goals_adm', 'over_adm'])\n",
    "\n",
    "    nex = WebDriverWait(adm, 4).until(EC.presence_of_element_located((By.XPATH, '//ul/li[@class=\"page-item\"][1]')))\n",
    "    for j in range(pages):\n",
    "        for k in range(40):\n",
    "            try:\n",
    "                elemento = adm.find_element(By.XPATH, f'//*[@id=\"centerContent\"]/app-sport-tree-selection-container/div/app-events-group/section/section/div/app-event[{k}]').text.split('\\n')\n",
    "                teams = elemento[3]+' '+elemento[4]\n",
    "\n",
    "                home=elemento[5]\n",
    "                tie =elemento[6]\n",
    "                away=elemento[7]\n",
    "\n",
    "                under=elemento[8]\n",
    "                goals = elemento[9]\n",
    "                over=elemento[10]\n",
    "                df_adm.loc[len(df_adm.index)] = [teams, home, tie, away, under, goals, over]\n",
    "\n",
    "            except:\n",
    "                pass\n",
    "        nex.click()\n",
    "        nex = WebDriverWait(adm, 4).until(EC.presence_of_element_located((By.XPATH, '//ul/li[@class=\"page-item\"][2]')))\n",
    "\n",
    "    first = WebDriverWait(adm, 4).until(EC.presence_of_element_located((By.XPATH, '//li[contains(@class, \"page-item ng-star-inserted\")][1]')))\n",
    "    first.click()\n",
    "    df_adm.to_csv('CSV\\df_adm.csv')\n",
    "    #print('admiral_pre done')\n",
    "    return df_adm"
   ]
  },
  {
   "cell_type": "code",
   "execution_count": 44,
   "metadata": {},
   "outputs": [],
   "source": [
    "def maxbet_pre():\n",
    "    df_max = pd.DataFrame(columns=['teams', '1_max', 'X_max', '2_max', 'under_max', 'goals_max', 'over_max'])\n",
    "    for j in tqdm(range(60)):\n",
    "        for k in range(10):\n",
    "            try:\n",
    "                elemento = maxb.find_element(By.XPATH, f'/html/body/div[1]/div[5]/div/div[2]/div[2]/div/div/div/div[2]/div[{j}]/league-with-matches/div/div[{k}]').text.split('\\n')\n",
    "                teams = elemento[2].replace('-','')\n",
    "\n",
    "                home = elemento[3]\n",
    "                tie = elemento[4]\n",
    "                away = elemento[5]\n",
    "\n",
    "                under = elemento[6]\n",
    "                goals = 2.5\n",
    "                over = elemento[7]\n",
    "                df_max.loc[len(df_max.index)] = [teams, home, tie, away, under, goals, over]\n",
    "\n",
    "            except:\n",
    "                pass\n",
    "        porcentaje=round((j+1)*10/6, 3)\n",
    "        #clear_output()\n",
    "        #print(f'maxbet {porcentaje}%')\n",
    "    df_max.to_csv('CSV\\df_max.csv')\n",
    "    "
   ]
  },
  {
   "cell_type": "code",
   "execution_count": 45,
   "metadata": {},
   "outputs": [],
   "source": [
    "def merge():\n",
    "    '''          STARBET / ADMIRALBET '''\n",
    "\n",
    "    df_star, df_adm = pd.read_csv('CSV\\df_star.csv') , pd.read_csv('CSV\\df_adm.csv')\n",
    "\n",
    "    teams_adm  = df_adm.teams.tolist()\n",
    "    teams_star = df_star.teams.tolist()\n",
    "\n",
    "    df_adm[['teams_matched', 'score']] = df_adm.teams.apply(lambda x:process.extractOne(x, teams_star, scorer=fuzz.token_sort_ratio)).apply(pd.Series)\n",
    "    df_adm = df_adm[df_adm.score>60]\n",
    "\n",
    "    df_star_adm = pd.merge(df_adm, df_star, left_on='teams_matched', right_on='teams', how='left')\n",
    "    df_star_adm.to_csv('CSV\\TwoWay\\PRE_star_adm.csv')\n",
    "\n",
    "\n",
    "    '''          ADMIRALBET / SOCCERBET ''' \n",
    "\n",
    "    df_adm, df_soc = pd.read_csv('CSV\\df_adm.csv'), pd.read_csv('CSV\\df_soc.csv')\n",
    "\n",
    "    teams_adm = df_adm.teams.tolist()\n",
    "    teams_soc = df_soc.teams.tolist()\n",
    "\n",
    "    df_soc[['teams_matched', 'score']] = df_soc.teams.apply(lambda x: process.extractOne(x, teams_adm, scorer=fuzz.token_sort_ratio)).apply(pd.Series)\n",
    "    df_soc = df_soc[df_soc.score>50]\n",
    "\n",
    "    df_soc_adm = pd.merge(df_soc, df_adm, left_on='teams_matched', right_on='teams', how='left')\n",
    "    df_soc_adm.to_csv('CSV\\TwoWay\\PRE_soc_adm.csv')\n",
    "\n",
    "    '''         STARBET / SOCCERBET ''' \n",
    "\n",
    "    df_star, df_soc = pd.read_csv('CSV\\df_star.csv'), pd.read_csv('CSV\\df_soc.csv')\n",
    "\n",
    "    teams_star = df_star.teams.tolist()\n",
    "    teams_soc = df_soc.teams.tolist()\n",
    "\n",
    "    df_soc[['teams_matched', 'score']] = df_soc.teams.apply(lambda x: process.extractOne(x, teams_star, scorer=fuzz.token_sort_ratio)).apply(pd.Series)\n",
    "    df_soc = df_soc[df_soc.score>50]\n",
    "\n",
    "    df_soc_star = pd.merge(df_soc, df_star, left_on='teams_matched', right_on='teams', how='left')\n",
    "    df_soc_star.to_csv('CSV\\TwoWay\\PRE_soc_star.csv') \n",
    "\n",
    "\n",
    "    '''          MAXBET / SOCCERBET '''\n",
    "\n",
    "    df_soc, df_max = pd.read_csv('CSV\\df_soc.csv'), pd.read_csv('CSV\\df_max.csv')\n",
    "\n",
    "    teams_soc = df_soc.teams.tolist()\n",
    "    teams_max = df_max.teams.tolist()\n",
    "\n",
    "    df_soc[['teams_matched', 'score']] = df_soc.teams.apply(lambda x:process.extractOne(x, teams_max, scorer= fuzz.token_sort_ratio)).apply(pd.Series)\n",
    "    df_soc = df_soc[df_soc.score>59]\n",
    "\n",
    "    df_soc_max = pd.merge(df_soc, df_max, left_on='teams_matched', right_on='teams', how='left')\n",
    "    df_soc_max.to_csv('CSV\\TwoWay\\PRE_soc_max.csv')\n",
    "\n",
    "    '''          MAXBET / ADMIRAL ''' \n",
    "\n",
    "    df_adm, df_max = pd.read_csv('CSV\\df_adm.csv'), pd.read_csv('CSV\\df_max.csv')\n",
    "\n",
    "    teams_adm = df_adm.teams.tolist()\n",
    "    teams_max = df_max.teams.tolist()\n",
    "\n",
    "    df_adm[['teams_matched', 'score']] = df_adm.teams.apply(lambda x:process.extractOne(x, teams_max, scorer= fuzz.token_sort_ratio)).apply(pd.Series)\n",
    "    df_adm = df_adm[df_adm.score>59]\n",
    "\n",
    "    df_adm_max = pd.merge(df_adm, df_max, left_on='teams_matched', right_on='teams', how='left')\n",
    "    df_adm_max.to_csv('CSV\\TwoWay\\PRE_adm_max.csv')\n",
    "\n",
    "\n",
    "    ''' 3WAY MERGES''' \n",
    "\n",
    "\n",
    "    ''' AD / ST / SC '''\n",
    "    # loading data\n",
    "    df_soc_adm = pd.read_csv('CSV\\TwoWay\\PRE_soc_adm.csv')\n",
    "    df_soc_adm.drop(columns=['Unnamed: 0', 'Unnamed: 0_x','Unnamed: 0_y','teams_x', 'teams_y', 'score' ], inplace=True)\n",
    "    df_star = pd.read_csv('CSV\\df_star.csv')\n",
    "    #Start Merging process\n",
    "    teams_star = df_star.teams.tolist()\n",
    "    df_soc_adm[['teams_matched2', 'score']] = df_soc_adm.teams_matched.apply(lambda x:process.extractOne(x, teams_star, scorer=fuzz.token_sort_ratio)).apply(pd.Series)\n",
    "    df_soc_adm = df_soc_adm[df_soc_adm.score>59] #This drops all the teams names that don't match among sites\n",
    "    #The last merging process\n",
    "    df_soc_adm_star = pd.merge(df_soc_adm, df_star, left_on='teams_matched2', right_on='teams', how='left')\n",
    "    df_soc_adm_star.to_csv('CSV\\ThreeWay\\Pre_soc_adm_star.csv')\n",
    "    \n",
    "\n",
    "\n",
    "    ''' AD / SC / MAX '''\n",
    "    # loading data\n",
    "    df_soc_adm = pd.read_csv('CSV\\TwoWay\\PRE_soc_adm.csv')\n",
    "    df_soc_adm.drop(columns=['Unnamed: 0', 'Unnamed: 0_x','Unnamed: 0_y','teams_x', 'teams_y', 'score' ], inplace=True)\n",
    "    df_max = pd.read_csv('CSV\\df_max.csv')\n",
    "    #Start Merging process\n",
    "    teams_max = df_max.teams.tolist()\n",
    "    df_soc_adm[['teams_matched2', 'score']] = df_soc_adm.teams_matched.apply(lambda x:process.extractOne(x, teams_max, scorer=fuzz.token_sort_ratio)).apply(pd.Series)\n",
    "    df_soc_adm = df_soc_adm[df_soc_adm.score>59] #This drops all the teams names that don't match among sites\n",
    "    #The last merging process\n",
    "    df_soc_adm_max = pd.merge(df_soc_adm, df_max, left_on='teams_matched2', right_on='teams', how='left')\n",
    "    df_soc_adm_max.to_csv('CSV\\ThreeWay\\Pre_soc_adm_max.csv')\n",
    "    \n",
    "\n",
    "\n",
    "    ''' SC / ST / MAX '''\n",
    "    df_soc_star = pd.read_csv('CSV\\TwoWay\\PRE_soc_star.csv')\n",
    "    df_soc_star.drop(columns=['Unnamed: 0', 'Unnamed: 0_x','Unnamed: 0_y','teams_x', 'teams_y', 'score' ], inplace=True)\n",
    "\n",
    "    teams_max = df_max.teams.tolist()\n",
    "    df_soc_star[['teams_matched2', 'score']] = df_soc_star.teams_matched.apply(lambda x:process.extractOne(x, teams_max, scorer=fuzz.token_sort_ratio)).apply(pd.Series)\n",
    "    df_soc_star = df_soc_star[df_soc_star.score>59] #This drops all the teams names that don't match among sites\n",
    "    #The last merging process\n",
    "    df_soc_star_max = pd.merge(df_soc_star, df_max, left_on='teams_matched2', right_on='teams', how='left')\n",
    "    df_soc_star_max.to_csv('CSV\\ThreeWay\\Pre_soc_star_max.csv')\n",
    "    "
   ]
  },
  {
   "cell_type": "code",
   "execution_count": 46,
   "metadata": {},
   "outputs": [],
   "source": [
    "def final_function(rango=3):\n",
    "    for i in range(rango):\n",
    "        clear_output()\n",
    "        admiralbet = threading.Thread(target=admiral_pre)\n",
    "        soccerbet = threading.Thread(target=soccer_pre)\n",
    "        #starbet = threading.Thread(target=starbet_pre)\n",
    "        maxbet = threading.Thread(target=maxbet_pre)\n",
    "\n",
    "        print(f'Iteration number: {i+1}')\n",
    "        admiralbet.start()\n",
    "        print('-------')\n",
    "        print('Admiral function started')\n",
    "\n",
    "        soccerbet.start()\n",
    "        print('-------')\n",
    "        print('Soccerbet function started')\n",
    "        #starbet.start()\n",
    "        maxbet.start()\n",
    "        print('-------')\n",
    "        print('Maxbet function started')\n",
    "        admiralbet.join()\n",
    "        print('-------')\n",
    "        print('Admiral function ended')\n",
    "\n",
    "        soccerbet.join()\n",
    "        print('-------')\n",
    "        print('Soccerbet function ended')\n",
    "        \n",
    "        #starbet.join()\n",
    "        #print('-------')\n",
    "        #print('Starbet function ended')\n",
    "        \n",
    "        maxbet.join()\n",
    "        print('-------')\n",
    "        print('Maxbet function ended')\n",
    "        print('-------')\n",
    "        print('Merging start')\n",
    "        merge()\n",
    "        print('-------')\n",
    "        print('Merging finished. All .csv files have been updated')\n",
    "        time.sleep(3)\n",
    "    \n",
    "    #print(f'iteration {i}/{tiempo}')"
   ]
  },
  {
   "cell_type": "code",
   "execution_count": 49,
   "metadata": {},
   "outputs": [
    {
     "name": "stdout",
     "output_type": "stream",
     "text": [
      "Iteration number: 2\n",
      "-------\n",
      "Admiral function started\n",
      "-------\n",
      "Soccerbet function started\n",
      "-------\n",
      "Maxbet function started\n"
     ]
    },
    {
     "name": "stderr",
     "output_type": "stream",
     "text": [
      "  7%|▋         | 4/60 [00:01<00:19,  2.90it/s]Exception in thread Thread-88 (soccer_pre):\n",
      "Traceback (most recent call last):\n",
      "  File \"c:\\Python310\\lib\\threading.py\", line 1016, in _bootstrap_inner\n",
      "    self.run()\n",
      "  File \"c:\\Python310\\lib\\threading.py\", line 953, in run\n",
      "    self._target(*self._args, **self._kwargs)\n",
      "  File \"C:\\Users\\KNL\\AppData\\Local\\Temp\\ipykernel_4584\\1241145211.py\", line 23, in soccer_pre\n",
      "  File \"c:\\Python310\\lib\\site-packages\\selenium\\webdriver\\remote\\webelement.py\", line 88, in click\n",
      "    self._execute(Command.CLICK_ELEMENT)\n",
      "  File \"c:\\Python310\\lib\\site-packages\\selenium\\webdriver\\remote\\webelement.py\", line 396, in _execute\n",
      "    return self._parent.execute(command, params)\n",
      "  File \"c:\\Python310\\lib\\site-packages\\selenium\\webdriver\\remote\\webdriver.py\", line 428, in execute\n",
      "    self.error_handler.check_response(response)\n",
      "  File \"c:\\Python310\\lib\\site-packages\\selenium\\webdriver\\remote\\errorhandler.py\", line 243, in check_response\n",
      "    raise exception_class(message, screen, stacktrace)\n",
      "selenium.common.exceptions.ElementNotInteractableException: Message: element not interactable\n",
      "  (Session info: chrome=105.0.5195.127)\n",
      "Stacktrace:\n",
      "Backtrace:\n",
      "\tOrdinal0 [0x011ADF13+2219795]\n",
      "\tOrdinal0 [0x01142841+1779777]\n",
      "\tOrdinal0 [0x01054100+803072]\n",
      "\tOrdinal0 [0x01083FB6+999350]\n",
      "\tOrdinal0 [0x01079B76+957302]\n",
      "\tOrdinal0 [0x0109E7FC+1107964]\n",
      "\tOrdinal0 [0x010794B4+955572]\n",
      "\tOrdinal0 [0x0109EA14+1108500]\n",
      "\tOrdinal0 [0x010AF192+1175954]\n",
      "\tOrdinal0 [0x0109E616+1107478]\n",
      "\tOrdinal0 [0x01077F89+950153]\n",
      "\tOrdinal0 [0x01078F56+954198]\n",
      "\tGetHandleVerifier [0x014A2CB2+3040210]\n",
      "\tGetHandleVerifier [0x01492BB4+2974420]\n",
      "\tGetHandleVerifier [0x01246A0A+565546]\n",
      "\tGetHandleVerifier [0x01245680+560544]\n",
      "\tOrdinal0 [0x01149A5C+1808988]\n",
      "\tOrdinal0 [0x0114E3A8+1827752]\n",
      "\tOrdinal0 [0x0114E495+1827989]\n",
      "\tOrdinal0 [0x011580A4+1867940]\n",
      "\tBaseThreadInitThunk [0x765F6739+25]\n",
      "\tRtlGetFullPathName_UEx [0x77C28FD2+1218]\n",
      "\tRtlGetFullPathName_UEx [0x77C28F9D+1165]\n",
      "\n",
      " 82%|████████▏ | 49/60 [00:17<00:03,  2.95it/s]"
     ]
    },
    {
     "name": "stdout",
     "output_type": "stream",
     "text": [
      "-------\n",
      "Admiral function ended\n",
      "-------\n",
      "Soccerbet function ended\n"
     ]
    },
    {
     "name": "stderr",
     "output_type": "stream",
     "text": [
      "100%|██████████| 60/60 [00:22<00:00,  2.67it/s]\n"
     ]
    },
    {
     "name": "stdout",
     "output_type": "stream",
     "text": [
      "-------\n",
      "Maxbet function ended\n",
      "-------\n",
      "Merging start\n",
      "-------\n",
      "Merging finished. All .csv files have been updated\n"
     ]
    }
   ],
   "source": [
    "final_function(2)"
   ]
  },
  {
   "cell_type": "code",
   "execution_count": null,
   "metadata": {},
   "outputs": [],
   "source": []
  }
 ],
 "metadata": {
  "kernelspec": {
   "display_name": "Python 3.10.6 64-bit",
   "language": "python",
   "name": "python3"
  },
  "language_info": {
   "codemirror_mode": {
    "name": "ipython",
    "version": 3
   },
   "file_extension": ".py",
   "mimetype": "text/x-python",
   "name": "python",
   "nbconvert_exporter": "python",
   "pygments_lexer": "ipython3",
   "version": "3.10.6"
  },
  "orig_nbformat": 4,
  "vscode": {
   "interpreter": {
    "hash": "369f2c481f4da34e4445cda3fffd2e751bd1c4d706f27375911949ba6bb62e1c"
   }
  }
 },
 "nbformat": 4,
 "nbformat_minor": 2
}
