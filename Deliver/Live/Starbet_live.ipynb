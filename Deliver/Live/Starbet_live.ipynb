{
 "cells": [
  {
   "cell_type": "code",
   "execution_count": 1,
   "metadata": {},
   "outputs": [],
   "source": [
    "''' LIBRARIES '''\n",
    "from selenium import webdriver\n",
    "from selenium.webdriver.chrome.options import Options\n",
    "from selenium.webdriver.support.ui import Select\n",
    "from selenium.webdriver.common.by import By\n",
    "from selenium.webdriver.support.ui import WebDriverWait\n",
    "from selenium.webdriver.support import expected_conditions as EC\n",
    "\n",
    "import re\n",
    "import time\n",
    "from IPython.display import clear_output\n",
    "\n",
    "from fuzzywuzzy import process, fuzz\n",
    "from sympy import symbols, Eq, solve\n",
    "import pandas as pd\n",
    "import numpy as np"
   ]
  },
  {
   "cell_type": "code",
   "execution_count": 4,
   "metadata": {},
   "outputs": [
    {
     "name": "stderr",
     "output_type": "stream",
     "text": [
      "C:\\Users\\KNL\\AppData\\Local\\Temp\\ipykernel_15216\\655102112.py:7: DeprecationWarning: executable_path has been deprecated, please pass in a Service object\n",
      "  star = webdriver.Chrome(r'C:\\Users\\KNL\\Desktop\\Ale\\Upwork\\Scraping_bets\\chromedriver.exe', options=options)\n"
     ]
    }
   ],
   "source": [
    "'''Navigator Options               StarBETa LIVE'''\n",
    "url_star = 'https://www.starbet.rs/Live'\n",
    "options = Options()\n",
    "options.headless = False #for not opening the navigator\n",
    "options.add_argument('window-size=1920x1080') #Headless = True\n",
    "\n",
    "star = webdriver.Chrome(r'C:\\Users\\KNL\\Desktop\\Ale\\Upwork\\Scraping_bets\\chromedriver.exe', options=options)\n",
    "star.get(url_star)\n",
    "star.maximize_window()"
   ]
  },
  {
   "cell_type": "code",
   "execution_count": 6,
   "metadata": {},
   "outputs": [],
   "source": [
    "def starbet_live():\n",
    "    df_star = pd.DataFrame(columns=['teams_star', '1_star','X_star', '2_star', 'goals_star', 'under_star', 'over_star' ])\n",
    "    for j in range(65):\n",
    "        try:\n",
    "            elemento = star.find_element(By.XPATH, f'/html/body/form/div[4]/div/div/div/div[2]/div/div[1]/div[3]/div/table[1]/tbody/tr[{j}]')\n",
    "            element = star.find_element(By.XPATH, f'/html/body/form/div[4]/div/div/div/div[2]/div/div[1]/div[3]/div/table[1]/tbody/tr[{j}]').text.split('\\n')\n",
    "            \n",
    "            teams_star = element[1]+'  '+element[2]\n",
    "\n",
    "            star_1 = element[7].replace('-','1')\n",
    "            star_X = element[8].replace('-','1')\n",
    "            star_2 = element[9].replace('-','1')\n",
    "\n",
    "            goals_star = element[11]\n",
    "            under_star = element[10].replace('-','1')\n",
    "            over_star = element[12].replace('-','1')\n",
    "\n",
    "            #print(element[1]+'  '+element[2], '|', j)\n",
    "            df_star.loc[len(df_star.index)]  = [teams_star, star_1, star_X, star_2, goals_star, under_star, over_star]\n",
    "            if j in [15,25,35,45,55,65]:\n",
    "                elemento.location_once_scrolled_into_view\n",
    "        except:\n",
    "            pass\n",
    "    for k in [75,65,55,45,35,25,15,5,3,2,1]:\n",
    "        try:\n",
    "            elemento = star.find_element(By.XPATH, f'/html/body/form/div[4]/div/div/div/div[2]/div/div[1]/div[3]/div/table[1]/tbody/tr[{k}]')\n",
    "            elemento.location_once_scrolled_into_view\n",
    "        except:\n",
    "            pass\n",
    "\n",
    "    df_star.to_csv('CSV\\df_star.csv')"
   ]
  },
  {
   "cell_type": "code",
   "execution_count": 7,
   "metadata": {},
   "outputs": [],
   "source": [
    "starbet_live()"
   ]
  }
 ],
 "metadata": {
  "kernelspec": {
   "display_name": "Python 3.9.1 64-bit",
   "language": "python",
   "name": "python3"
  },
  "language_info": {
   "codemirror_mode": {
    "name": "ipython",
    "version": 3
   },
   "file_extension": ".py",
   "mimetype": "text/x-python",
   "name": "python",
   "nbconvert_exporter": "python",
   "pygments_lexer": "ipython3",
   "version": "3.9.1"
  },
  "orig_nbformat": 4,
  "vscode": {
   "interpreter": {
    "hash": "0d4113225d02981dc03cb054cbae758cd0f823be43aa5acf43d718373665f60b"
   }
  }
 },
 "nbformat": 4,
 "nbformat_minor": 2
}
