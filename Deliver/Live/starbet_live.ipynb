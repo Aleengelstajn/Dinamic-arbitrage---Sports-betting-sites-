{
 "cells": [
  {
   "cell_type": "code",
   "execution_count": null,
   "metadata": {},
   "outputs": [],
   "source": [
    "def starbet_live():\n",
    "    df_star = pd.DataFrame(columns=['teams', '1_star','X_star', '2_star', 'under_star','goals_star',  'over_star' ])\n",
    "    for j in range(65):\n",
    "        try:\n",
    "            elemento = star.find_element(By.XPATH, f'/html/body/form/div[4]/div/div/div/div[2]/div/div[1]/div[3]/div/table[1]/tbody/tr[{j}]')\n",
    "            element = star.find_element(By.XPATH, f'/html/body/form/div[4]/div/div/div/div[2]/div/div[1]/div[3]/div/table[1]/tbody/tr[{j}]').text.split('\\n')\n",
    "            teams_star = element[1]+'  '+element[2]\n",
    "\n",
    "            star_1 = element[7]\n",
    "            star_X = element[8]\n",
    "            star_2 = element[9]\n",
    "\n",
    "            goals_star = element[11]\n",
    "            under_star = element[10]\n",
    "            over_star = element[12]\n",
    "            if len(element)==17:\n",
    "                star_1 = element[8]\n",
    "                star_X = element[9]\n",
    "                star_2 = element[10]\n",
    "\n",
    "                goals_star = element[12]\n",
    "                under_star = element[11]\n",
    "                over_star = element[13]\n",
    "        \n",
    "            \n",
    "            #print(element[1]+'  '+element[2], '|', j)\n",
    "            df_star.loc[len(df_star.index)]  = [teams_star, star_1, star_X, star_2,  under_star, goals_star,over_star]\n",
    "            if j in [15,25,35,45,55,65]:\n",
    "                elemento.location_once_scrolled_into_view\n",
    "        except:\n",
    "            pass\n",
    "    for k in [75,65,55,45,35,25,15,5,3,2,1]:\n",
    "        try:\n",
    "            elemento = star.find_element(By.XPATH, f'/html/body/form/div[4]/div/div/div/div[2]/div/div[1]/div[3]/div/table[1]/tbody/tr[{k}]')\n",
    "            elemento.location_once_scrolled_into_view\n",
    "        except:\n",
    "            pass\n",
    "\n",
    "    df_star.to_csv('CSV\\df_star.csv')\n",
    "    return df_star"
   ]
  }
 ],
 "metadata": {
  "kernelspec": {
   "display_name": "Python 3.9.13 64-bit (microsoft store)",
   "language": "python",
   "name": "python3"
  },
  "language_info": {
   "name": "python",
   "version": "3.9.13"
  },
  "orig_nbformat": 4,
  "vscode": {
   "interpreter": {
    "hash": "006c2b932914ff8e95f30e749041e4b399d36857f00ee48d79cb79341a100acd"
   }
  }
 },
 "nbformat": 4,
 "nbformat_minor": 2
}
